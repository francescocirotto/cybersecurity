{
 "cells": [
  {
   "cell_type": "markdown",
   "id": "79b4affb",
   "metadata": {},
   "source": [
    "Below the date correponding to each attack, in order to select a particular .csv (avoid loading **HUGE** file)\n",
    "```\n",
    "Benign ['01/03/2018' '16/02/2018' '02/03/2018' '23/02/2018' '15/02/2018'\n",
    " '28/02/2018' '22/02/2018' '10/01/1970' '11/01/1970' '12/01/1970'\n",
    " '21/02/2018' '14/02/2018' '05/01/1970' '08/01/1970' '20/02/2018']\n",
    "DDOS attack-HOIC ['21/02/2018']\n",
    "DDoS attacks-LOIC-HTTP ['20/02/2018']\n",
    "DoS attacks-Hulk ['16/02/2018']\n",
    "Bot ['02/03/2018']\n",
    "FTP-BruteForce ['14/02/2018']\n",
    "SSH-Bruteforce ['14/02/2018']\n",
    "Infilteration ['01/03/2018' '28/02/2018']\n",
    "DoS attacks-SlowHTTPTest ['16/02/2018']\n",
    "DoS attacks-GoldenEye ['15/02/2018']\n",
    "DoS attacks-Slowloris ['15/02/2018']\n",
    "DDOS attack-LOIC-UDP ['21/02/2018']\n",
    "Brute Force -Web ['23/02/2018' '22/02/2018']\n",
    "Brute Force -XSS ['23/02/2018' '22/02/2018']\n",
    "SQL Injection ['23/02/2018' '22/02/2018']\n",
    "```\n"
   ]
  },
  {
   "cell_type": "code",
   "execution_count": 1,
   "id": "6363e124",
   "metadata": {},
   "outputs": [
    {
     "name": "stderr",
     "output_type": "stream",
     "text": [
      "2023-11-21 15:39:04.138098: I tensorflow/core/platform/cpu_feature_guard.cc:182] This TensorFlow binary is optimized to use available CPU instructions in performance-critical operations.\n",
      "To enable the following instructions: AVX2 FMA, in other operations, rebuild TensorFlow with the appropriate compiler flags.\n",
      "2023-11-21 15:39:05.447767: W tensorflow/compiler/tf2tensorrt/utils/py_utils.cc:38] TF-TRT Warning: Could not find TensorRT\n"
     ]
    }
   ],
   "source": [
    "import pandas as pd\n",
    "import numpy as np\n",
    "import matplotlib.pyplot as plt\n",
    "#import joblib\n",
    "import sklearn\n",
    "from sklearn.preprocessing import MinMaxScaler\n",
    "from sklearn.ensemble import RandomForestClassifier\n",
    "from sklearn.model_selection import GridSearchCV, train_test_split\n",
    "from sklearn.metrics import accuracy_score, classification_report, roc_curve, auc,confusion_matrix,roc_auc_score\n",
    "from sklearn.metrics import confusion_matrix, ConfusionMatrixDisplay\n",
    "from keras.utils.np_utils import to_categorical\n",
    "\n",
    "from sklearn.utils import class_weight\n",
    "import glob\n",
    "\n",
    "RANDOM_STATE_SEED = 77"
   ]
  },
  {
   "cell_type": "markdown",
   "id": "afdba66c",
   "metadata": {},
   "source": [
    "This preprocessing is the same as in the notebook containing DNN"
   ]
  },
  {
   "cell_type": "code",
   "execution_count": 2,
   "id": "57ab74bf",
   "metadata": {},
   "outputs": [
    {
     "name": "stdout",
     "output_type": "stream",
     "text": [
      "['../DDOS/dataset/Thuesday-20-02-2018_TrafficForML_CICFlowMeter.csv']\n"
     ]
    },
    {
     "data": {
      "text/html": [
       "<div>\n",
       "<style scoped>\n",
       "    .dataframe tbody tr th:only-of-type {\n",
       "        vertical-align: middle;\n",
       "    }\n",
       "\n",
       "    .dataframe tbody tr th {\n",
       "        vertical-align: top;\n",
       "    }\n",
       "\n",
       "    .dataframe thead th {\n",
       "        text-align: right;\n",
       "    }\n",
       "</style>\n",
       "<table border=\"1\" class=\"dataframe\">\n",
       "  <thead>\n",
       "    <tr style=\"text-align: right;\">\n",
       "      <th></th>\n",
       "      <th>Flow ID</th>\n",
       "      <th>Src IP</th>\n",
       "      <th>Src Port</th>\n",
       "      <th>Dst IP</th>\n",
       "      <th>Dst Port</th>\n",
       "      <th>Protocol</th>\n",
       "      <th>Timestamp</th>\n",
       "      <th>Flow Duration</th>\n",
       "      <th>Tot Fwd Pkts</th>\n",
       "      <th>Tot Bwd Pkts</th>\n",
       "      <th>...</th>\n",
       "      <th>Fwd Seg Size Min</th>\n",
       "      <th>Active Mean</th>\n",
       "      <th>Active Std</th>\n",
       "      <th>Active Max</th>\n",
       "      <th>Active Min</th>\n",
       "      <th>Idle Mean</th>\n",
       "      <th>Idle Std</th>\n",
       "      <th>Idle Max</th>\n",
       "      <th>Idle Min</th>\n",
       "      <th>Label</th>\n",
       "    </tr>\n",
       "  </thead>\n",
       "  <tbody>\n",
       "    <tr>\n",
       "      <th>0</th>\n",
       "      <td>172.31.69.25-94.231.103.172-22-45498-6</td>\n",
       "      <td>94.231.103.172</td>\n",
       "      <td>45498</td>\n",
       "      <td>172.31.69.25</td>\n",
       "      <td>22</td>\n",
       "      <td>6</td>\n",
       "      <td>20/02/2018 08:34:07</td>\n",
       "      <td>888751</td>\n",
       "      <td>11</td>\n",
       "      <td>11</td>\n",
       "      <td>...</td>\n",
       "      <td>32</td>\n",
       "      <td>0.0</td>\n",
       "      <td>0.0</td>\n",
       "      <td>0.0</td>\n",
       "      <td>0.0</td>\n",
       "      <td>0.0</td>\n",
       "      <td>0.000000</td>\n",
       "      <td>0.0</td>\n",
       "      <td>0.0</td>\n",
       "      <td>Benign</td>\n",
       "    </tr>\n",
       "    <tr>\n",
       "      <th>1</th>\n",
       "      <td>8.0.6.4-8.6.0.1-0-0-0</td>\n",
       "      <td>8.6.0.1</td>\n",
       "      <td>0</td>\n",
       "      <td>8.0.6.4</td>\n",
       "      <td>0</td>\n",
       "      <td>0</td>\n",
       "      <td>20/02/2018 08:33:22</td>\n",
       "      <td>112642816</td>\n",
       "      <td>3</td>\n",
       "      <td>0</td>\n",
       "      <td>...</td>\n",
       "      <td>0</td>\n",
       "      <td>0.0</td>\n",
       "      <td>0.0</td>\n",
       "      <td>0.0</td>\n",
       "      <td>0.0</td>\n",
       "      <td>56300000.0</td>\n",
       "      <td>7.071068</td>\n",
       "      <td>56300000.0</td>\n",
       "      <td>56300000.0</td>\n",
       "      <td>Benign</td>\n",
       "    </tr>\n",
       "    <tr>\n",
       "      <th>2</th>\n",
       "      <td>8.0.6.4-8.6.0.1-0-0-0</td>\n",
       "      <td>8.6.0.1</td>\n",
       "      <td>0</td>\n",
       "      <td>8.0.6.4</td>\n",
       "      <td>0</td>\n",
       "      <td>0</td>\n",
       "      <td>20/02/2018 08:36:11</td>\n",
       "      <td>112642712</td>\n",
       "      <td>3</td>\n",
       "      <td>0</td>\n",
       "      <td>...</td>\n",
       "      <td>0</td>\n",
       "      <td>0.0</td>\n",
       "      <td>0.0</td>\n",
       "      <td>0.0</td>\n",
       "      <td>0.0</td>\n",
       "      <td>56300000.0</td>\n",
       "      <td>18.384776</td>\n",
       "      <td>56300000.0</td>\n",
       "      <td>56300000.0</td>\n",
       "      <td>Benign</td>\n",
       "    </tr>\n",
       "    <tr>\n",
       "      <th>3</th>\n",
       "      <td>8.0.6.4-8.6.0.1-0-0-0</td>\n",
       "      <td>8.6.0.1</td>\n",
       "      <td>0</td>\n",
       "      <td>8.0.6.4</td>\n",
       "      <td>0</td>\n",
       "      <td>0</td>\n",
       "      <td>20/02/2018 08:39:00</td>\n",
       "      <td>112642648</td>\n",
       "      <td>3</td>\n",
       "      <td>0</td>\n",
       "      <td>...</td>\n",
       "      <td>0</td>\n",
       "      <td>0.0</td>\n",
       "      <td>0.0</td>\n",
       "      <td>0.0</td>\n",
       "      <td>0.0</td>\n",
       "      <td>56300000.0</td>\n",
       "      <td>5.656854</td>\n",
       "      <td>56300000.0</td>\n",
       "      <td>56300000.0</td>\n",
       "      <td>Benign</td>\n",
       "    </tr>\n",
       "    <tr>\n",
       "      <th>4</th>\n",
       "      <td>8.0.6.4-8.6.0.1-0-0-0</td>\n",
       "      <td>8.6.0.1</td>\n",
       "      <td>0</td>\n",
       "      <td>8.0.6.4</td>\n",
       "      <td>0</td>\n",
       "      <td>0</td>\n",
       "      <td>20/02/2018 08:41:49</td>\n",
       "      <td>112642702</td>\n",
       "      <td>3</td>\n",
       "      <td>0</td>\n",
       "      <td>...</td>\n",
       "      <td>0</td>\n",
       "      <td>0.0</td>\n",
       "      <td>0.0</td>\n",
       "      <td>0.0</td>\n",
       "      <td>0.0</td>\n",
       "      <td>56300000.0</td>\n",
       "      <td>65.053824</td>\n",
       "      <td>56300000.0</td>\n",
       "      <td>56300000.0</td>\n",
       "      <td>Benign</td>\n",
       "    </tr>\n",
       "    <tr>\n",
       "      <th>...</th>\n",
       "      <td>...</td>\n",
       "      <td>...</td>\n",
       "      <td>...</td>\n",
       "      <td>...</td>\n",
       "      <td>...</td>\n",
       "      <td>...</td>\n",
       "      <td>...</td>\n",
       "      <td>...</td>\n",
       "      <td>...</td>\n",
       "      <td>...</td>\n",
       "      <td>...</td>\n",
       "      <td>...</td>\n",
       "      <td>...</td>\n",
       "      <td>...</td>\n",
       "      <td>...</td>\n",
       "      <td>...</td>\n",
       "      <td>...</td>\n",
       "      <td>...</td>\n",
       "      <td>...</td>\n",
       "      <td>...</td>\n",
       "      <td>...</td>\n",
       "    </tr>\n",
       "    <tr>\n",
       "      <th>7948743</th>\n",
       "      <td>172.31.69.7-185.2.197.19-623-42801-6</td>\n",
       "      <td>185.2.197.19</td>\n",
       "      <td>42801</td>\n",
       "      <td>172.31.69.7</td>\n",
       "      <td>623</td>\n",
       "      <td>6</td>\n",
       "      <td>20/02/2018 01:41:45</td>\n",
       "      <td>94042</td>\n",
       "      <td>2</td>\n",
       "      <td>1</td>\n",
       "      <td>...</td>\n",
       "      <td>20</td>\n",
       "      <td>0.0</td>\n",
       "      <td>0.0</td>\n",
       "      <td>0.0</td>\n",
       "      <td>0.0</td>\n",
       "      <td>0.0</td>\n",
       "      <td>0.000000</td>\n",
       "      <td>0.0</td>\n",
       "      <td>0.0</td>\n",
       "      <td>Benign</td>\n",
       "    </tr>\n",
       "    <tr>\n",
       "      <th>7948744</th>\n",
       "      <td>172.31.69.7-195.22.125.42-22-2178-6</td>\n",
       "      <td>195.22.125.42</td>\n",
       "      <td>2178</td>\n",
       "      <td>172.31.69.7</td>\n",
       "      <td>22</td>\n",
       "      <td>6</td>\n",
       "      <td>20/02/2018 11:51:06</td>\n",
       "      <td>251281</td>\n",
       "      <td>4</td>\n",
       "      <td>2</td>\n",
       "      <td>...</td>\n",
       "      <td>20</td>\n",
       "      <td>0.0</td>\n",
       "      <td>0.0</td>\n",
       "      <td>0.0</td>\n",
       "      <td>0.0</td>\n",
       "      <td>0.0</td>\n",
       "      <td>0.000000</td>\n",
       "      <td>0.0</td>\n",
       "      <td>0.0</td>\n",
       "      <td>Benign</td>\n",
       "    </tr>\n",
       "    <tr>\n",
       "      <th>7948745</th>\n",
       "      <td>172.31.69.7-107.3.188.61-23-14259-6</td>\n",
       "      <td>107.3.188.61</td>\n",
       "      <td>14259</td>\n",
       "      <td>172.31.69.7</td>\n",
       "      <td>23</td>\n",
       "      <td>6</td>\n",
       "      <td>20/02/2018 08:49:20</td>\n",
       "      <td>21</td>\n",
       "      <td>1</td>\n",
       "      <td>1</td>\n",
       "      <td>...</td>\n",
       "      <td>20</td>\n",
       "      <td>0.0</td>\n",
       "      <td>0.0</td>\n",
       "      <td>0.0</td>\n",
       "      <td>0.0</td>\n",
       "      <td>0.0</td>\n",
       "      <td>0.000000</td>\n",
       "      <td>0.0</td>\n",
       "      <td>0.0</td>\n",
       "      <td>Benign</td>\n",
       "    </tr>\n",
       "    <tr>\n",
       "      <th>7948746</th>\n",
       "      <td>172.31.69.7-5.188.11.188-3039-54193-6</td>\n",
       "      <td>5.188.11.188</td>\n",
       "      <td>54193</td>\n",
       "      <td>172.31.69.7</td>\n",
       "      <td>3039</td>\n",
       "      <td>6</td>\n",
       "      <td>20/02/2018 02:00:54</td>\n",
       "      <td>181954</td>\n",
       "      <td>2</td>\n",
       "      <td>1</td>\n",
       "      <td>...</td>\n",
       "      <td>20</td>\n",
       "      <td>0.0</td>\n",
       "      <td>0.0</td>\n",
       "      <td>0.0</td>\n",
       "      <td>0.0</td>\n",
       "      <td>0.0</td>\n",
       "      <td>0.000000</td>\n",
       "      <td>0.0</td>\n",
       "      <td>0.0</td>\n",
       "      <td>Benign</td>\n",
       "    </tr>\n",
       "    <tr>\n",
       "      <th>7948747</th>\n",
       "      <td>172.31.69.7-188.19.76.194-445-57958-6</td>\n",
       "      <td>188.19.76.194</td>\n",
       "      <td>57958</td>\n",
       "      <td>172.31.69.7</td>\n",
       "      <td>445</td>\n",
       "      <td>6</td>\n",
       "      <td>20/02/2018 04:07:01</td>\n",
       "      <td>687378</td>\n",
       "      <td>2</td>\n",
       "      <td>2</td>\n",
       "      <td>...</td>\n",
       "      <td>32</td>\n",
       "      <td>0.0</td>\n",
       "      <td>0.0</td>\n",
       "      <td>0.0</td>\n",
       "      <td>0.0</td>\n",
       "      <td>0.0</td>\n",
       "      <td>0.000000</td>\n",
       "      <td>0.0</td>\n",
       "      <td>0.0</td>\n",
       "      <td>Benign</td>\n",
       "    </tr>\n",
       "  </tbody>\n",
       "</table>\n",
       "<p>7948748 rows × 84 columns</p>\n",
       "</div>"
      ],
      "text/plain": [
       "                                        Flow ID          Src IP  Src Port  \\\n",
       "0        172.31.69.25-94.231.103.172-22-45498-6  94.231.103.172     45498   \n",
       "1                         8.0.6.4-8.6.0.1-0-0-0         8.6.0.1         0   \n",
       "2                         8.0.6.4-8.6.0.1-0-0-0         8.6.0.1         0   \n",
       "3                         8.0.6.4-8.6.0.1-0-0-0         8.6.0.1         0   \n",
       "4                         8.0.6.4-8.6.0.1-0-0-0         8.6.0.1         0   \n",
       "...                                         ...             ...       ...   \n",
       "7948743    172.31.69.7-185.2.197.19-623-42801-6    185.2.197.19     42801   \n",
       "7948744     172.31.69.7-195.22.125.42-22-2178-6   195.22.125.42      2178   \n",
       "7948745     172.31.69.7-107.3.188.61-23-14259-6    107.3.188.61     14259   \n",
       "7948746   172.31.69.7-5.188.11.188-3039-54193-6    5.188.11.188     54193   \n",
       "7948747   172.31.69.7-188.19.76.194-445-57958-6   188.19.76.194     57958   \n",
       "\n",
       "               Dst IP  Dst Port  Protocol            Timestamp  Flow Duration  \\\n",
       "0        172.31.69.25        22         6  20/02/2018 08:34:07         888751   \n",
       "1             8.0.6.4         0         0  20/02/2018 08:33:22      112642816   \n",
       "2             8.0.6.4         0         0  20/02/2018 08:36:11      112642712   \n",
       "3             8.0.6.4         0         0  20/02/2018 08:39:00      112642648   \n",
       "4             8.0.6.4         0         0  20/02/2018 08:41:49      112642702   \n",
       "...               ...       ...       ...                  ...            ...   \n",
       "7948743   172.31.69.7       623         6  20/02/2018 01:41:45          94042   \n",
       "7948744   172.31.69.7        22         6  20/02/2018 11:51:06         251281   \n",
       "7948745   172.31.69.7        23         6  20/02/2018 08:49:20             21   \n",
       "7948746   172.31.69.7      3039         6  20/02/2018 02:00:54         181954   \n",
       "7948747   172.31.69.7       445         6  20/02/2018 04:07:01         687378   \n",
       "\n",
       "         Tot Fwd Pkts  Tot Bwd Pkts  ...  Fwd Seg Size Min  Active Mean  \\\n",
       "0                  11            11  ...                32          0.0   \n",
       "1                   3             0  ...                 0          0.0   \n",
       "2                   3             0  ...                 0          0.0   \n",
       "3                   3             0  ...                 0          0.0   \n",
       "4                   3             0  ...                 0          0.0   \n",
       "...               ...           ...  ...               ...          ...   \n",
       "7948743             2             1  ...                20          0.0   \n",
       "7948744             4             2  ...                20          0.0   \n",
       "7948745             1             1  ...                20          0.0   \n",
       "7948746             2             1  ...                20          0.0   \n",
       "7948747             2             2  ...                32          0.0   \n",
       "\n",
       "         Active Std  Active Max  Active Min   Idle Mean   Idle Std  \\\n",
       "0               0.0         0.0         0.0         0.0   0.000000   \n",
       "1               0.0         0.0         0.0  56300000.0   7.071068   \n",
       "2               0.0         0.0         0.0  56300000.0  18.384776   \n",
       "3               0.0         0.0         0.0  56300000.0   5.656854   \n",
       "4               0.0         0.0         0.0  56300000.0  65.053824   \n",
       "...             ...         ...         ...         ...        ...   \n",
       "7948743         0.0         0.0         0.0         0.0   0.000000   \n",
       "7948744         0.0         0.0         0.0         0.0   0.000000   \n",
       "7948745         0.0         0.0         0.0         0.0   0.000000   \n",
       "7948746         0.0         0.0         0.0         0.0   0.000000   \n",
       "7948747         0.0         0.0         0.0         0.0   0.000000   \n",
       "\n",
       "           Idle Max    Idle Min   Label  \n",
       "0               0.0         0.0  Benign  \n",
       "1        56300000.0  56300000.0  Benign  \n",
       "2        56300000.0  56300000.0  Benign  \n",
       "3        56300000.0  56300000.0  Benign  \n",
       "4        56300000.0  56300000.0  Benign  \n",
       "...             ...         ...     ...  \n",
       "7948743         0.0         0.0  Benign  \n",
       "7948744         0.0         0.0  Benign  \n",
       "7948745         0.0         0.0  Benign  \n",
       "7948746         0.0         0.0  Benign  \n",
       "7948747         0.0         0.0  Benign  \n",
       "\n",
       "[7948748 rows x 84 columns]"
      ]
     },
     "execution_count": 2,
     "metadata": {},
     "output_type": "execute_result"
    }
   ],
   "source": [
    "# read the whole dataset just by leaving .csv \n",
    "all_files  = glob.glob(\"../DDOS/dataset/*20-02-2018*.csv\") #selecte only DDOS attack on 20/02/2018\n",
    "print(all_files)\n",
    "\n",
    "df = pd.concat((pd.read_csv(f) for f in all_files), ignore_index=True)\n",
    "\n",
    "# display data\n",
    "df"
   ]
  },
  {
   "cell_type": "code",
   "execution_count": 3,
   "id": "9b8c9f2c",
   "metadata": {},
   "outputs": [
    {
     "name": "stdout",
     "output_type": "stream",
     "text": [
      "Initial size was  (7948748, 84)\n",
      "Now drop missing values\n",
      "Dataset cleaned. Now shape is (7889295, 84)\n"
     ]
    }
   ],
   "source": [
    "def cleanDataset(df):\n",
    "    \n",
    "    print('Initial size was ', df.shape)\n",
    "    # replace +ve and -ve infinity with NaN\n",
    "    df.replace([np.inf, -np.inf], np.nan, inplace=True)\n",
    "    \n",
    "    # drop missing values\n",
    "    print('Now drop missing values')\n",
    "    df.dropna(inplace=True)\n",
    "    \n",
    "    print('Dataset cleaned. Now shape is', df.shape)\n",
    "    \n",
    "cleanDataset(df)"
   ]
  },
  {
   "cell_type": "code",
   "execution_count": 4,
   "id": "e35722d4",
   "metadata": {},
   "outputs": [
    {
     "data": {
      "text/plain": [
       "Label\n",
       "Benign                    7313104\n",
       "DDoS attacks-LOIC-HTTP     576191\n",
       "Name: count, dtype: int64"
      ]
     },
     "execution_count": 4,
     "metadata": {},
     "output_type": "execute_result"
    }
   ],
   "source": [
    "df[\"Label\"].value_counts()"
   ]
  },
  {
   "cell_type": "markdown",
   "id": "2cd9dd60",
   "metadata": {},
   "source": [
    "We just group under label \"Malware\" all type of attacks (some files contains different kind of attack)"
   ]
  },
  {
   "cell_type": "code",
   "execution_count": 5,
   "id": "4d77a536",
   "metadata": {},
   "outputs": [
    {
     "name": "stdout",
     "output_type": "stream",
     "text": [
      "['DDoS attacks-LOIC-HTTP']\n"
     ]
    }
   ],
   "source": [
    "listMalware = [label for label in df[\"Label\"].value_counts().keys() if not 'Benign' in label ]\n",
    "print(listMalware)\n",
    "df.replace(to_replace=listMalware, value=\"Malware\", inplace=True)"
   ]
  },
  {
   "cell_type": "code",
   "execution_count": 6,
   "id": "d15046a0",
   "metadata": {},
   "outputs": [
    {
     "data": {
      "text/plain": [
       "<Axes: title={'center': 'Event Label'}, xlabel='Label'>"
      ]
     },
     "execution_count": 6,
     "metadata": {},
     "output_type": "execute_result"
    },
    {
     "data": {
      "image/png": "[encoded data removed]",
      "text/plain": [
       "<Figure size 640x480 with 1 Axes>"
      ]
     },
     "metadata": {},
     "output_type": "display_data"
    }
   ],
   "source": [
    "df[\"Label\"].value_counts().plot(kind='bar',\n",
    "                               y='Events',\n",
    "                               title='Event Label'\n",
    "                               )"
   ]
  },
  {
   "cell_type": "markdown",
   "id": "f0928bb4",
   "metadata": {},
   "source": [
    "# CNN approach"
   ]
  },
  {
   "cell_type": "markdown",
   "id": "4b6cfb04",
   "metadata": {},
   "source": [
    "\n",
    "Let's create a dataset with the same label distribution"
   ]
  },
  {
   "cell_type": "code",
   "execution_count": 7,
   "id": "85b001d4",
   "metadata": {},
   "outputs": [
    {
     "name": "stdout",
     "output_type": "stream",
     "text": [
      "576191\n",
      "200000\n"
     ]
    }
   ],
   "source": [
    "nSize = df[df[\"Label\"] == \"Malware\"].shape[0]\n",
    "print(nSize)\n",
    "nSize= 100000 #40000\n",
    "df1 = df[df[\"Label\"] == \"Benign\"][:nSize]\n",
    "df2 = df[df[\"Label\"] == \"Malware\"][:nSize]\n",
    "df_final = pd.concat([ df1,df2], axis =0)\n",
    "#We now encode our class labels to integer values for the model to use.\n",
    "\n",
    "df_final.replace(to_replace=\"Benign\", value=0, inplace=True)\n",
    "df_final.replace(to_replace=\"Malware\", value=1, inplace=True)\n",
    "print(len(df_final))\n"
   ]
  },
  {
   "cell_type": "code",
   "execution_count": 8,
   "id": "da2b105c",
   "metadata": {},
   "outputs": [],
   "source": [
    "train, test = train_test_split(df_final, test_size=0.2, random_state=RANDOM_STATE_SEED)\n"
   ]
  },
  {
   "cell_type": "markdown",
   "id": "cbfe38f5",
   "metadata": {},
   "source": [
    "Get list of non numerical columns"
   ]
  },
  {
   "cell_type": "code",
   "execution_count": 9,
   "id": "ef274814",
   "metadata": {},
   "outputs": [
    {
     "name": "stdout",
     "output_type": "stream",
     "text": [
      "Non numerical features (Skipping Label) ['Flow ID', 'Src IP', 'Dst IP', 'Timestamp']\n",
      "['Src Port', 'Dst Port', 'Protocol', 'Flow Duration', 'Tot Fwd Pkts', 'Tot Bwd Pkts', 'TotLen Fwd Pkts', 'TotLen Bwd Pkts', 'Fwd Pkt Len Max', 'Fwd Pkt Len Min', 'Fwd Pkt Len Mean', 'Fwd Pkt Len Std', 'Bwd Pkt Len Max', 'Bwd Pkt Len Min', 'Bwd Pkt Len Mean', 'Bwd Pkt Len Std', 'Flow Byts/s', 'Flow Pkts/s', 'Flow IAT Mean', 'Flow IAT Std', 'Flow IAT Max', 'Flow IAT Min', 'Fwd IAT Tot', 'Fwd IAT Mean', 'Fwd IAT Std', 'Fwd IAT Max', 'Fwd IAT Min', 'Bwd IAT Tot', 'Bwd IAT Mean', 'Bwd IAT Std', 'Bwd IAT Max', 'Bwd IAT Min', 'Fwd PSH Flags', 'Bwd PSH Flags', 'Fwd URG Flags', 'Bwd URG Flags', 'Fwd Header Len', 'Bwd Header Len', 'Fwd Pkts/s', 'Bwd Pkts/s', 'Pkt Len Min', 'Pkt Len Max', 'Pkt Len Mean', 'Pkt Len Std', 'Pkt Len Var', 'FIN Flag Cnt', 'SYN Flag Cnt', 'RST Flag Cnt', 'PSH Flag Cnt', 'ACK Flag Cnt', 'URG Flag Cnt', 'CWE Flag Count', 'ECE Flag Cnt', 'Down/Up Ratio', 'Pkt Size Avg', 'Fwd Seg Size Avg', 'Bwd Seg Size Avg', 'Fwd Byts/b Avg', 'Fwd Pkts/b Avg', 'Fwd Blk Rate Avg', 'Bwd Byts/b Avg', 'Bwd Pkts/b Avg', 'Bwd Blk Rate Avg', 'Subflow Fwd Pkts', 'Subflow Fwd Byts', 'Subflow Bwd Pkts', 'Subflow Bwd Byts', 'Init Fwd Win Byts', 'Init Bwd Win Byts', 'Fwd Act Data Pkts', 'Fwd Seg Size Min', 'Active Mean', 'Active Std', 'Active Max', 'Active Min', 'Idle Mean', 'Idle Std', 'Idle Max', 'Idle Min']\n",
      "84 84\n"
     ]
    }
   ],
   "source": [
    "objectColumns = list(df.select_dtypes(['object']).columns)\n",
    "objectColumns.remove(\"Label\")\n",
    "\n",
    "print('Non numerical features (Skipping Label)', objectColumns)\n",
    "\n",
    "numericColumns = df.select_dtypes(include=[np.number]).columns.to_list()\n",
    "\n",
    "print(numericColumns)\n",
    "\n",
    "print( 1 + len(numericColumns) + len(objectColumns), df.shape[1])"
   ]
  },
  {
   "cell_type": "code",
   "execution_count": 10,
   "id": "36f0b160",
   "metadata": {},
   "outputs": [
    {
     "name": "stdout",
     "output_type": "stream",
     "text": [
      "Full dataset:\n",
      "\n",
      "Benign: 100000\n",
      "Malware: 100000\n",
      "---------------\n",
      "Training set:\n",
      "\n",
      "Benign: 79932\n",
      "Malware: 80068\n",
      "---------------\n",
      "Test set:\n",
      "\n",
      "Benign: 20068\n",
      "Malware: 19932\n"
     ]
    }
   ],
   "source": [
    "print(\"Full dataset:\\n\")\n",
    "print(\"Benign: \" + str(df_final[\"Label\"].value_counts()[[0]].sum()))\n",
    "print(\"Malware: \" + str(df_final[\"Label\"].value_counts()[[1]].sum()))\n",
    "print(\"---------------\")\n",
    "\n",
    "print(\"Training set:\\n\")\n",
    "print(\"Benign: \" + str(train[\"Label\"].value_counts()[[0]].sum()))\n",
    "print(\"Malware: \" + str(train[\"Label\"].value_counts()[[1]].sum()))\n",
    "print(\"---------------\")\n",
    "\n",
    "print(\"Test set:\\n\")\n",
    "print(\"Benign: \" + str(test[\"Label\"].value_counts()[[0]].sum()))\n",
    "print(\"Malware: \" + str(test[\"Label\"].value_counts()[[1]].sum()))"
   ]
  },
  {
   "cell_type": "code",
   "execution_count": 11,
   "id": "33dd2db5",
   "metadata": {},
   "outputs": [
    {
     "name": "stdout",
     "output_type": "stream",
     "text": [
      "Flow ID              172.31.64.115-52.84.4.54-51851-443-6\n",
      "Src IP                                      172.31.64.115\n",
      "Src Port                                            51851\n",
      "Dst IP                                         52.84.4.54\n",
      "Dst Port                                              443\n",
      "Protocol                                                6\n",
      "Timestamp                             20/02/2018 12:25:41\n",
      "Flow Duration                                   116439551\n",
      "Tot Fwd Pkts                                           18\n",
      "Tot Bwd Pkts                                           32\n",
      "TotLen Fwd Pkts                                     925.0\n",
      "TotLen Bwd Pkts                                   33214.0\n",
      "Fwd Pkt Len Max                                     286.0\n",
      "Fwd Pkt Len Min                                       0.0\n",
      "Fwd Pkt Len Mean                                51.388889\n",
      "Fwd Pkt Len Std                                 87.305507\n",
      "Bwd Pkt Len Max                                    1460.0\n",
      "Bwd Pkt Len Min                                       0.0\n",
      "Bwd Pkt Len Mean                                1037.9375\n",
      "Bwd Pkt Len Std                                642.252635\n",
      "Flow Byts/s                                    293.190756\n",
      "Flow Pkts/s                                      0.429407\n",
      "Flow IAT Mean                              2376317.367347\n",
      "Flow IAT Std                              11612915.752135\n",
      "Flow IAT Max                                   58168605.0\n",
      "Flow IAT Min                                          0.0\n",
      "Fwd IAT Tot                                   116439551.0\n",
      "Fwd IAT Mean                               6849385.352941\n",
      "Fwd IAT Std                               19288001.543625\n",
      "Fwd IAT Max                                    58168605.0\n",
      "Fwd IAT Min                                         235.0\n",
      "Bwd IAT Tot                                   116368292.0\n",
      "Bwd IAT Mean                               3753815.870968\n",
      "Bwd IAT Std                               14518282.218013\n",
      "Bwd IAT Max                                    58180312.0\n",
      "Bwd IAT Min                                           0.0\n",
      "Fwd PSH Flags                                           0\n",
      "Bwd PSH Flags                                           0\n",
      "Fwd URG Flags                                           0\n",
      "Bwd URG Flags                                           0\n",
      "Fwd Header Len                                        372\n",
      "Bwd Header Len                                        652\n",
      "Fwd Pkts/s                                       0.154587\n",
      "Bwd Pkts/s                                       0.274821\n",
      "Pkt Len Min                                           0.0\n",
      "Pkt Len Max                                        1460.0\n",
      "Pkt Len Mean                                   669.392157\n",
      "Pkt Len Std                                    701.226528\n",
      "Pkt Len Var                                 491718.643137\n",
      "FIN Flag Cnt                                            0\n",
      "SYN Flag Cnt                                            0\n",
      "RST Flag Cnt                                            0\n",
      "PSH Flag Cnt                                            1\n",
      "ACK Flag Cnt                                            0\n",
      "URG Flag Cnt                                            0\n",
      "CWE Flag Count                                          0\n",
      "ECE Flag Cnt                                            0\n",
      "Down/Up Ratio                                         1.0\n",
      "Pkt Size Avg                                       682.78\n",
      "Fwd Seg Size Avg                                51.388889\n",
      "Bwd Seg Size Avg                                1037.9375\n",
      "Fwd Byts/b Avg                                          0\n",
      "Fwd Pkts/b Avg                                          0\n",
      "Fwd Blk Rate Avg                                        0\n",
      "Bwd Byts/b Avg                                          0\n",
      "Bwd Pkts/b Avg                                          0\n",
      "Bwd Blk Rate Avg                                        0\n",
      "Subflow Fwd Pkts                                       18\n",
      "Subflow Fwd Byts                                      925\n",
      "Subflow Bwd Pkts                                       32\n",
      "Subflow Bwd Byts                                    33214\n",
      "Init Fwd Win Byts                                    8192\n",
      "Init Bwd Win Byts                                     127\n",
      "Fwd Act Data Pkts                                       7\n",
      "Fwd Seg Size Min                                       20\n",
      "Active Mean                                       89350.0\n",
      "Active Std                                   16294.568666\n",
      "Active Max                                       100872.0\n",
      "Active Min                                        77828.0\n",
      "Idle Mean                                      58094523.0\n",
      "Idle Std                                    104767.769128\n",
      "Idle Max                                       58168605.0\n",
      "Idle Min                                       58020441.0\n",
      "Label                                                   0\n"
     ]
    }
   ],
   "source": [
    "print(train.iloc[0].to_string())\n"
   ]
  },
  {
   "cell_type": "code",
   "execution_count": 12,
   "id": "5fd2a72e",
   "metadata": {},
   "outputs": [],
   "source": [
    "\n",
    "#remove object columns\n",
    "train.drop(objectColumns, axis=1,inplace=True)\n",
    "test.drop(objectColumns,axis=1,inplace=True)\n",
    "\n"
   ]
  },
  {
   "cell_type": "code",
   "execution_count": 13,
   "id": "da66d68c",
   "metadata": {},
   "outputs": [
    {
     "name": "stdout",
     "output_type": "stream",
     "text": [
      "<class 'numpy.ndarray'>\n",
      "<class 'numpy.ndarray'>\n",
      "(160000, 79)\n",
      "(160000,)\n",
      "<class 'numpy.ndarray'>\n",
      "<class 'numpy.ndarray'>\n",
      "(40000, 79)\n",
      "(40000,)\n"
     ]
    }
   ],
   "source": [
    "#X after y, since we're slicing \"Label\" columns\n",
    "y_train = np.array(train.pop(\"Label\"))\n",
    "X_train = train.values\n",
    "\n",
    "\n",
    "\n",
    "y_test = np.array(test.pop(\"Label\")) # pop removes \"Label\" from the dataframe\n",
    "X_test = test.values\n",
    "\n",
    "print(type(X_train))\n",
    "print(type(y_train))\n",
    "print(X_train.shape)\n",
    "print(y_train.shape)\n",
    "\n",
    "print(type(X_test))\n",
    "print(type(y_test))\n",
    "print(X_test.shape)\n",
    "print(y_test.shape)"
   ]
  },
  {
   "cell_type": "code",
   "execution_count": 14,
   "id": "ea5c0e1b",
   "metadata": {},
   "outputs": [
    {
     "name": "stdout",
     "output_type": "stream",
     "text": [
      "(40000, 2)\n"
     ]
    }
   ],
   "source": [
    "a = to_categorical(y_test, num_classes=2)\n",
    "print(a.shape)"
   ]
  },
  {
   "cell_type": "code",
   "execution_count": 15,
   "id": "f695b517",
   "metadata": {},
   "outputs": [
    {
     "name": "stdout",
     "output_type": "stream",
     "text": [
      "(160000, 79, 1) (40000, 79, 1)\n",
      "(160000, 2) (40000, 2)\n"
     ]
    }
   ],
   "source": [
    "# reshape the data for CNN\n",
    "X_train = X_train.reshape(len(X_train), X_train.shape[1], 1)\n",
    "X_test = X_test.reshape(len(X_test), X_test.shape[1], 1)\n",
    "print(X_train.shape, X_test.shape)\n",
    "\n",
    "#categorize y_train\n",
    "yTrain = to_categorical(y_train, num_classes=2)\n",
    "yTest = to_categorical(y_test, num_classes=2)\n",
    "print(yTrain.shape, yTest.shape)"
   ]
  },
  {
   "cell_type": "markdown",
   "id": "8556e186",
   "metadata": {},
   "source": [
    "A Convolution Neural Network Model.\n",
    "\n",
    "\n",
    "Model with Conv1D layers, barch normalization and max pooling 1D"
   ]
  },
  {
   "cell_type": "code",
   "execution_count": 17,
   "id": "89449bb8",
   "metadata": {},
   "outputs": [],
   "source": [
    "import keras\n",
    "from keras.layers import Conv2D, Conv1D, MaxPooling2D, MaxPooling1D, Flatten, BatchNormalization, Dense\n",
    "from keras.utils.np_utils import to_categorical\n",
    "from keras.models import Sequential\n",
    "from keras.callbacks import CSVLogger, ModelCheckpoint\n",
    "import tensorflow as tf\n",
    "\n",
    "# making the deep learning function\n",
    "def CNN_model(initial_input_shape):\n",
    "    \n",
    "    model = Sequential()\n",
    "    model.add(Conv1D(filters=64, kernel_size=6, activation='relu', \n",
    "                    padding='same', input_shape=initial_input_shape))\n",
    "    model.add(BatchNormalization())\n",
    "    \n",
    "    # adding a pooling layer\n",
    "    model.add(MaxPooling1D(pool_size=(3), strides=2, padding='same'))\n",
    "    \n",
    "    model.add(Conv1D(filters=64, kernel_size=6, activation='relu', \n",
    "                    padding='same', input_shape=initial_input_shape))\n",
    "    model.add(BatchNormalization())\n",
    "    model.add(MaxPooling1D(pool_size=(3), strides=2, padding='same'))\n",
    "    \n",
    "    model.add(Conv1D(filters=64, kernel_size=6, activation='relu', \n",
    "                    padding='same', input_shape=initial_input_shape))\n",
    "    model.add(BatchNormalization())\n",
    "    model.add(MaxPooling1D(pool_size=(3), strides=2, padding='same'))\n",
    "    \n",
    "    model.add(Flatten())\n",
    "    model.add(Dense(64, activation='relu'))\n",
    "    model.add(Dense(64, activation='relu'))\n",
    "    model.add(Dense(2, activation='softmax'))\n",
    "    \n",
    "    model.summary()\n",
    "    #model.compile(loss='categorical_crossentropy', optimizer='adam', metrics=['accuracy'])\n",
    "    optimizer = tf.keras.optimizers.Adam(epsilon=0.01)\n",
    "\n",
    "\n",
    "    model.compile(\n",
    "        optimizer=optimizer,\n",
    "        loss='categorical_crossentropy',\n",
    "        metrics=['accuracy'],\n",
    "    )\n",
    "    return model    \n",
    "\n"
   ]
  },
  {
   "cell_type": "code",
   "execution_count": 18,
   "id": "7a50689d",
   "metadata": {},
   "outputs": [
    {
     "name": "stdout",
     "output_type": "stream",
     "text": [
      "Model: \"sequential\"\n",
      "_________________________________________________________________\n",
      " Layer (type)                Output Shape              Param #   \n",
      "=================================================================\n",
      " conv1d (Conv1D)             (None, 79, 64)            448       \n",
      "                                                                 \n",
      " batch_normalization (BatchN  (None, 79, 64)           256       \n",
      " ormalization)                                                   \n",
      "                                                                 \n",
      " max_pooling1d (MaxPooling1D  (None, 40, 64)           0         \n",
      " )                                                               \n",
      "                                                                 \n",
      " conv1d_1 (Conv1D)           (None, 40, 64)            24640     \n",
      "                                                                 \n",
      " batch_normalization_1 (Batc  (None, 40, 64)           256       \n",
      " hNormalization)                                                 \n",
      "                                                                 \n",
      " max_pooling1d_1 (MaxPooling  (None, 20, 64)           0         \n",
      " 1D)                                                             \n",
      "                                                                 \n",
      " conv1d_2 (Conv1D)           (None, 20, 64)            24640     \n",
      "                                                                 \n",
      " batch_normalization_2 (Batc  (None, 20, 64)           256       \n",
      " hNormalization)                                                 \n",
      "                                                                 \n",
      " max_pooling1d_2 (MaxPooling  (None, 10, 64)           0         \n",
      " 1D)                                                             \n",
      "                                                                 \n",
      " flatten (Flatten)           (None, 640)               0         \n",
      "                                                                 \n",
      " dense (Dense)               (None, 64)                41024     \n",
      "                                                                 \n",
      " dense_1 (Dense)             (None, 64)                4160      \n",
      "                                                                 \n",
      " dense_2 (Dense)             (None, 2)                 130       \n",
      "                                                                 \n",
      "=================================================================\n",
      "Total params: 95,810\n",
      "Trainable params: 95,426\n",
      "Non-trainable params: 384\n",
      "_________________________________________________________________\n"
     ]
    },
    {
     "name": "stderr",
     "output_type": "stream",
     "text": [
      "2023-11-21 15:41:39.338125: I tensorflow/core/common_runtime/gpu/gpu_device.cc:1635] Created device /job:localhost/replica:0/task:0/device:GPU:0 with 30936 MB memory:  -> device: 0, name: Tesla V100S-PCIE-32GB, pci bus id: 0000:21:00.0, compute capability: 7.0\n",
      "2023-11-21 15:41:39.339087: I tensorflow/core/common_runtime/gpu/gpu_device.cc:1635] Created device /job:localhost/replica:0/task:0/device:GPU:1 with 30936 MB memory:  -> device: 1, name: Tesla V100S-PCIE-32GB, pci bus id: 0000:81:00.0, compute capability: 7.0\n"
     ]
    }
   ],
   "source": [
    "\n",
    "CNN = CNN_model(X_train.shape[1:])"
   ]
  },
  {
   "cell_type": "code",
   "execution_count": 19,
   "id": "e6560561",
   "metadata": {},
   "outputs": [],
   "source": [
    "from keras.callbacks import EarlyStopping\n",
    "#early_stop = EarlyStopping(verbose=True, patience=20, monitor='val_loss')\n",
    "early_stop = EarlyStopping(\n",
    "        min_delta = 1e-4,\n",
    "        patience = 10,\n",
    "        restore_best_weights = True\n",
    "    )\n",
    "logger = CSVLogger('log_CNN.csv', append=True)\n",
    "callback_ES = [early_stop, logger]"
   ]
  },
  {
   "cell_type": "code",
   "execution_count": 20,
   "id": "6dd2dc2d",
   "metadata": {
    "scrolled": false
   },
   "outputs": [
    {
     "name": "stdout",
     "output_type": "stream",
     "text": [
      "Epoch 1/60\n"
     ]
    },
    {
     "name": "stderr",
     "output_type": "stream",
     "text": [
      "2023-11-21 15:42:03.170607: I tensorflow/compiler/xla/stream_executor/cuda/cuda_dnn.cc:424] Loaded cuDNN version 8600\n",
      "2023-11-21 15:42:04.394414: I tensorflow/compiler/xla/service/service.cc:169] XLA service 0x14b8508d1700 initialized for platform CUDA (this does not guarantee that XLA will be used). Devices:\n",
      "2023-11-21 15:42:04.394449: I tensorflow/compiler/xla/service/service.cc:177]   StreamExecutor device (0): Tesla V100S-PCIE-32GB, Compute Capability 7.0\n",
      "2023-11-21 15:42:04.394454: I tensorflow/compiler/xla/service/service.cc:177]   StreamExecutor device (1): Tesla V100S-PCIE-32GB, Compute Capability 7.0\n",
      "2023-11-21 15:42:04.417537: I tensorflow/compiler/mlir/tensorflow/utils/dump_mlir_util.cc:269] disabling MLIR crash reproducer, set env var `MLIR_CRASH_REPRODUCER_DIRECTORY` to enable.\n",
      "2023-11-21 15:42:04.638709: I ./tensorflow/compiler/jit/device_compiler.h:180] Compiled cluster using XLA!  This line is logged at most once for the lifetime of the process.\n"
     ]
    },
    {
     "name": "stdout",
     "output_type": "stream",
     "text": [
      "1250/1250 [==============================] - 11s 4ms/step - loss: 0.0259 - accuracy: 0.9935 - val_loss: 0.0256 - val_accuracy: 0.9986\n",
      "Epoch 2/60\n",
      "1250/1250 [==============================] - 5s 4ms/step - loss: 0.0050 - accuracy: 0.9987 - val_loss: 0.0094 - val_accuracy: 0.9975\n",
      "Epoch 3/60\n",
      "1250/1250 [==============================] - 5s 4ms/step - loss: 0.0049 - accuracy: 0.9988 - val_loss: 0.0121 - val_accuracy: 0.9987\n",
      "Epoch 4/60\n",
      "1250/1250 [==============================] - 5s 4ms/step - loss: 0.0020 - accuracy: 0.9995 - val_loss: 0.0046 - val_accuracy: 0.9991\n",
      "Epoch 5/60\n",
      "1250/1250 [==============================] - 5s 4ms/step - loss: 9.8466e-04 - accuracy: 0.9998 - val_loss: 0.0017 - val_accuracy: 0.9998\n",
      "Epoch 6/60\n",
      "1250/1250 [==============================] - 5s 4ms/step - loss: 0.0018 - accuracy: 0.9995 - val_loss: 0.0038 - val_accuracy: 0.9990\n",
      "Epoch 7/60\n",
      "1250/1250 [==============================] - 5s 4ms/step - loss: 0.0090 - accuracy: 0.9986 - val_loss: 0.0018 - val_accuracy: 0.9994\n",
      "Epoch 8/60\n",
      "1250/1250 [==============================] - 5s 4ms/step - loss: 0.0031 - accuracy: 0.9991 - val_loss: 0.0011 - val_accuracy: 0.9997\n",
      "Epoch 9/60\n",
      "1250/1250 [==============================] - 5s 4ms/step - loss: 5.2634e-04 - accuracy: 0.9999 - val_loss: 2.7644e-04 - val_accuracy: 0.9998\n",
      "Epoch 10/60\n",
      "1250/1250 [==============================] - 5s 4ms/step - loss: 0.0013 - accuracy: 0.9997 - val_loss: 6.1082e-04 - val_accuracy: 0.9999\n",
      "Epoch 11/60\n",
      "1250/1250 [==============================] - 5s 4ms/step - loss: 0.0024 - accuracy: 0.9992 - val_loss: 0.0067 - val_accuracy: 0.9997\n",
      "Epoch 12/60\n",
      "1250/1250 [==============================] - 5s 4ms/step - loss: 0.0047 - accuracy: 0.9988 - val_loss: 0.0027 - val_accuracy: 0.9993\n",
      "Epoch 13/60\n",
      "1250/1250 [==============================] - 5s 4ms/step - loss: 0.0028 - accuracy: 0.9993 - val_loss: 0.0013 - val_accuracy: 0.9998\n",
      "Epoch 14/60\n",
      "1250/1250 [==============================] - 5s 4ms/step - loss: 7.4452e-04 - accuracy: 0.9998 - val_loss: 3.2270e-04 - val_accuracy: 1.0000\n",
      "Epoch 15/60\n",
      "1250/1250 [==============================] - 5s 4ms/step - loss: 9.2411e-04 - accuracy: 0.9998 - val_loss: 6.4635e-04 - val_accuracy: 0.9999\n",
      "Epoch 16/60\n",
      "1250/1250 [==============================] - 5s 4ms/step - loss: 0.0017 - accuracy: 0.9995 - val_loss: 0.0025 - val_accuracy: 0.9991\n",
      "Epoch 17/60\n",
      "1250/1250 [==============================] - 5s 4ms/step - loss: 8.0782e-04 - accuracy: 0.9998 - val_loss: 0.0020 - val_accuracy: 0.9991\n",
      "Epoch 18/60\n",
      "1250/1250 [==============================] - 5s 4ms/step - loss: 3.6929e-04 - accuracy: 0.9999 - val_loss: 3.4246e-04 - val_accuracy: 0.9999\n",
      "Epoch 19/60\n",
      "1250/1250 [==============================] - 5s 4ms/step - loss: 3.7234e-04 - accuracy: 0.9999 - val_loss: 3.1826e-04 - val_accuracy: 0.9999\n"
     ]
    }
   ],
   "source": [
    "history_CNN = CNN.fit(X_train, yTrain, epochs=60, batch_size=128, \n",
    "          validation_data=(X_test, yTest), callbacks=callback_ES)"
   ]
  },
  {
   "cell_type": "code",
   "execution_count": 21,
   "id": "06a2ed62",
   "metadata": {},
   "outputs": [
    {
     "name": "stdout",
     "output_type": "stream",
     "text": [
      "1250/1250 [==============================] - 2s 1ms/step - loss: 2.7644e-04 - accuracy: 0.9998\n",
      "accuracy: 99.98%\n"
     ]
    }
   ],
   "source": [
    "# check the model performance on test data\n",
    "scores = CNN.evaluate(X_test, yTest)\n",
    "print(\"%s: %.2f%%\" % (CNN.metrics_names[1], scores[1] * 100))\n"
   ]
  },
  {
   "cell_type": "code",
   "execution_count": 23,
   "id": "222a955b",
   "metadata": {},
   "outputs": [
    {
     "name": "stdout",
     "output_type": "stream",
     "text": [
      "dict_keys(['loss', 'accuracy', 'val_loss', 'val_accuracy'])\n"
     ]
    },
    {
     "data": {
      "image/png": "[encoded data removed]",
      "text/plain": [
       "<Figure size 640x480 with 1 Axes>"
      ]
     },
     "metadata": {},
     "output_type": "display_data"
    },
    {
     "data": {
      "image/png": "[encoded data removed]",
      "text/plain": [
       "<Figure size 640x480 with 1 Axes>"
      ]
     },
     "metadata": {},
     "output_type": "display_data"
    }
   ],
   "source": [
    "# list all data in history\n",
    "print(history_CNN.history.keys())\n",
    "# summarize history for accuracy\n",
    "plt.plot(history_CNN.history['accuracy'])\n",
    "plt.plot(history_CNN.history['val_accuracy'])\n",
    "plt.title('model accuracy')\n",
    "plt.ylabel('accuracy')\n",
    "#plt.yscale('log')\n",
    "plt.ylim(0.95,1.005)\n",
    "\n",
    "plt.xlabel('epoch')\n",
    "plt.legend(['train', 'test'], loc='lower right')\n",
    "plt.show()\n",
    "# summarize history for loss\n",
    "plt.plot(history_CNN.history['loss'])\n",
    "plt.plot(history_CNN.history['val_loss'])\n",
    "plt.title('model loss')\n",
    "plt.ylabel('loss')\n",
    "plt.ylim(0.,0.05)\n",
    "\n",
    "#plt.yscale('log')\n",
    "plt.xlabel('epoch')\n",
    "plt.legend(['train', 'test'], loc='lower right')\n",
    "plt.show()"
   ]
  },
  {
   "cell_type": "code",
   "execution_count": null,
   "id": "d1f235b8",
   "metadata": {},
   "outputs": [],
   "source": []
  }
 ],
 "metadata": {
  "kernelspec": {
   "display_name": "cybersecurity",
   "language": "python",
   "name": "cybersecurity"
  },
  "language_info": {
   "codemirror_mode": {
    "name": "ipython",
    "version": 3
   },
   "file_extension": ".py",
   "mimetype": "text/x-python",
   "name": "python",
   "nbconvert_exporter": "python",
   "pygments_lexer": "ipython3",
   "version": "3.9.18"
  }
 },
 "nbformat": 4,
 "nbformat_minor": 5
}
