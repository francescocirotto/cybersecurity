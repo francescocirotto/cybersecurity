{
 "cells": [
  {
   "cell_type": "markdown",
   "id": "79b4affb",
   "metadata": {},
   "source": [
    "Below the date correponding to each attack, in order to select a particular .csv (avoid loading **HUGE** file)\n",
    "```\n",
    "Benign ['01/03/2018' '16/02/2018' '02/03/2018' '23/02/2018' '15/02/2018'\n",
    " '28/02/2018' '22/02/2018' '10/01/1970' '11/01/1970' '12/01/1970'\n",
    " '21/02/2018' '14/02/2018' '05/01/1970' '08/01/1970' '20/02/2018']\n",
    "DDOS attack-HOIC ['21/02/2018']\n",
    "DDoS attacks-LOIC-HTTP ['20/02/2018']\n",
    "DoS attacks-Hulk ['16/02/2018']\n",
    "Bot ['02/03/2018']\n",
    "FTP-BruteForce ['14/02/2018']\n",
    "SSH-Bruteforce ['14/02/2018']\n",
    "Infilteration ['01/03/2018' '28/02/2018']\n",
    "DoS attacks-SlowHTTPTest ['16/02/2018']\n",
    "DoS attacks-GoldenEye ['15/02/2018']\n",
    "DoS attacks-Slowloris ['15/02/2018']\n",
    "DDOS attack-LOIC-UDP ['21/02/2018']\n",
    "Brute Force -Web ['23/02/2018' '22/02/2018']\n",
    "Brute Force -XSS ['23/02/2018' '22/02/2018']\n",
    "SQL Injection ['23/02/2018' '22/02/2018']\n",
    "```\n"
   ]
  },
  {
   "cell_type": "code",
   "execution_count": 1,
   "id": "6363e124",
   "metadata": {},
   "outputs": [],
   "source": [
    "import pandas as pd\n",
    "import numpy as np\n",
    "import matplotlib.pyplot as plt\n",
    "#import joblib\n",
    "import sklearn\n",
    "from sklearn.preprocessing import MinMaxScaler\n",
    "from sklearn.ensemble import RandomForestClassifier\n",
    "from sklearn.model_selection import GridSearchCV, train_test_split\n",
    "from sklearn.metrics import accuracy_score, classification_report, roc_curve, auc,confusion_matrix, plot_confusion_matrix,roc_auc_score\n",
    "from sklearn.utils import class_weight\n",
    "import glob\n",
    "\n",
    "RANDOM_STATE_SEED = 77"
   ]
  },
  {
   "cell_type": "code",
   "execution_count": 2,
   "id": "57ab74bf",
   "metadata": {},
   "outputs": [
    {
     "name": "stdout",
     "output_type": "stream",
     "text": [
      "['../DDOS/dataset/Thuesday-20-02-2018_TrafficForML_CICFlowMeter.csv']\n"
     ]
    },
    {
     "data": {
      "text/html": [
       "<div>\n",
       "<style scoped>\n",
       "    .dataframe tbody tr th:only-of-type {\n",
       "        vertical-align: middle;\n",
       "    }\n",
       "\n",
       "    .dataframe tbody tr th {\n",
       "        vertical-align: top;\n",
       "    }\n",
       "\n",
       "    .dataframe thead th {\n",
       "        text-align: right;\n",
       "    }\n",
       "</style>\n",
       "<table border=\"1\" class=\"dataframe\">\n",
       "  <thead>\n",
       "    <tr style=\"text-align: right;\">\n",
       "      <th></th>\n",
       "      <th>Flow ID</th>\n",
       "      <th>Src IP</th>\n",
       "      <th>Src Port</th>\n",
       "      <th>Dst IP</th>\n",
       "      <th>Dst Port</th>\n",
       "      <th>Protocol</th>\n",
       "      <th>Timestamp</th>\n",
       "      <th>Flow Duration</th>\n",
       "      <th>Tot Fwd Pkts</th>\n",
       "      <th>Tot Bwd Pkts</th>\n",
       "      <th>...</th>\n",
       "      <th>Fwd Seg Size Min</th>\n",
       "      <th>Active Mean</th>\n",
       "      <th>Active Std</th>\n",
       "      <th>Active Max</th>\n",
       "      <th>Active Min</th>\n",
       "      <th>Idle Mean</th>\n",
       "      <th>Idle Std</th>\n",
       "      <th>Idle Max</th>\n",
       "      <th>Idle Min</th>\n",
       "      <th>Label</th>\n",
       "    </tr>\n",
       "  </thead>\n",
       "  <tbody>\n",
       "    <tr>\n",
       "      <th>0</th>\n",
       "      <td>172.31.69.25-94.231.103.172-22-45498-6</td>\n",
       "      <td>94.231.103.172</td>\n",
       "      <td>45498</td>\n",
       "      <td>172.31.69.25</td>\n",
       "      <td>22</td>\n",
       "      <td>6</td>\n",
       "      <td>20/02/2018 08:34:07</td>\n",
       "      <td>888751</td>\n",
       "      <td>11</td>\n",
       "      <td>11</td>\n",
       "      <td>...</td>\n",
       "      <td>32</td>\n",
       "      <td>0.0</td>\n",
       "      <td>0.0</td>\n",
       "      <td>0.0</td>\n",
       "      <td>0.0</td>\n",
       "      <td>0.0</td>\n",
       "      <td>0.000000</td>\n",
       "      <td>0.0</td>\n",
       "      <td>0.0</td>\n",
       "      <td>Benign</td>\n",
       "    </tr>\n",
       "    <tr>\n",
       "      <th>1</th>\n",
       "      <td>8.0.6.4-8.6.0.1-0-0-0</td>\n",
       "      <td>8.6.0.1</td>\n",
       "      <td>0</td>\n",
       "      <td>8.0.6.4</td>\n",
       "      <td>0</td>\n",
       "      <td>0</td>\n",
       "      <td>20/02/2018 08:33:22</td>\n",
       "      <td>112642816</td>\n",
       "      <td>3</td>\n",
       "      <td>0</td>\n",
       "      <td>...</td>\n",
       "      <td>0</td>\n",
       "      <td>0.0</td>\n",
       "      <td>0.0</td>\n",
       "      <td>0.0</td>\n",
       "      <td>0.0</td>\n",
       "      <td>56300000.0</td>\n",
       "      <td>7.071068</td>\n",
       "      <td>56300000.0</td>\n",
       "      <td>56300000.0</td>\n",
       "      <td>Benign</td>\n",
       "    </tr>\n",
       "    <tr>\n",
       "      <th>2</th>\n",
       "      <td>8.0.6.4-8.6.0.1-0-0-0</td>\n",
       "      <td>8.6.0.1</td>\n",
       "      <td>0</td>\n",
       "      <td>8.0.6.4</td>\n",
       "      <td>0</td>\n",
       "      <td>0</td>\n",
       "      <td>20/02/2018 08:36:11</td>\n",
       "      <td>112642712</td>\n",
       "      <td>3</td>\n",
       "      <td>0</td>\n",
       "      <td>...</td>\n",
       "      <td>0</td>\n",
       "      <td>0.0</td>\n",
       "      <td>0.0</td>\n",
       "      <td>0.0</td>\n",
       "      <td>0.0</td>\n",
       "      <td>56300000.0</td>\n",
       "      <td>18.384776</td>\n",
       "      <td>56300000.0</td>\n",
       "      <td>56300000.0</td>\n",
       "      <td>Benign</td>\n",
       "    </tr>\n",
       "    <tr>\n",
       "      <th>3</th>\n",
       "      <td>8.0.6.4-8.6.0.1-0-0-0</td>\n",
       "      <td>8.6.0.1</td>\n",
       "      <td>0</td>\n",
       "      <td>8.0.6.4</td>\n",
       "      <td>0</td>\n",
       "      <td>0</td>\n",
       "      <td>20/02/2018 08:39:00</td>\n",
       "      <td>112642648</td>\n",
       "      <td>3</td>\n",
       "      <td>0</td>\n",
       "      <td>...</td>\n",
       "      <td>0</td>\n",
       "      <td>0.0</td>\n",
       "      <td>0.0</td>\n",
       "      <td>0.0</td>\n",
       "      <td>0.0</td>\n",
       "      <td>56300000.0</td>\n",
       "      <td>5.656854</td>\n",
       "      <td>56300000.0</td>\n",
       "      <td>56300000.0</td>\n",
       "      <td>Benign</td>\n",
       "    </tr>\n",
       "    <tr>\n",
       "      <th>4</th>\n",
       "      <td>8.0.6.4-8.6.0.1-0-0-0</td>\n",
       "      <td>8.6.0.1</td>\n",
       "      <td>0</td>\n",
       "      <td>8.0.6.4</td>\n",
       "      <td>0</td>\n",
       "      <td>0</td>\n",
       "      <td>20/02/2018 08:41:49</td>\n",
       "      <td>112642702</td>\n",
       "      <td>3</td>\n",
       "      <td>0</td>\n",
       "      <td>...</td>\n",
       "      <td>0</td>\n",
       "      <td>0.0</td>\n",
       "      <td>0.0</td>\n",
       "      <td>0.0</td>\n",
       "      <td>0.0</td>\n",
       "      <td>56300000.0</td>\n",
       "      <td>65.053824</td>\n",
       "      <td>56300000.0</td>\n",
       "      <td>56300000.0</td>\n",
       "      <td>Benign</td>\n",
       "    </tr>\n",
       "    <tr>\n",
       "      <th>...</th>\n",
       "      <td>...</td>\n",
       "      <td>...</td>\n",
       "      <td>...</td>\n",
       "      <td>...</td>\n",
       "      <td>...</td>\n",
       "      <td>...</td>\n",
       "      <td>...</td>\n",
       "      <td>...</td>\n",
       "      <td>...</td>\n",
       "      <td>...</td>\n",
       "      <td>...</td>\n",
       "      <td>...</td>\n",
       "      <td>...</td>\n",
       "      <td>...</td>\n",
       "      <td>...</td>\n",
       "      <td>...</td>\n",
       "      <td>...</td>\n",
       "      <td>...</td>\n",
       "      <td>...</td>\n",
       "      <td>...</td>\n",
       "      <td>...</td>\n",
       "    </tr>\n",
       "    <tr>\n",
       "      <th>7948743</th>\n",
       "      <td>172.31.69.7-185.2.197.19-623-42801-6</td>\n",
       "      <td>185.2.197.19</td>\n",
       "      <td>42801</td>\n",
       "      <td>172.31.69.7</td>\n",
       "      <td>623</td>\n",
       "      <td>6</td>\n",
       "      <td>20/02/2018 01:41:45</td>\n",
       "      <td>94042</td>\n",
       "      <td>2</td>\n",
       "      <td>1</td>\n",
       "      <td>...</td>\n",
       "      <td>20</td>\n",
       "      <td>0.0</td>\n",
       "      <td>0.0</td>\n",
       "      <td>0.0</td>\n",
       "      <td>0.0</td>\n",
       "      <td>0.0</td>\n",
       "      <td>0.000000</td>\n",
       "      <td>0.0</td>\n",
       "      <td>0.0</td>\n",
       "      <td>Benign</td>\n",
       "    </tr>\n",
       "    <tr>\n",
       "      <th>7948744</th>\n",
       "      <td>172.31.69.7-195.22.125.42-22-2178-6</td>\n",
       "      <td>195.22.125.42</td>\n",
       "      <td>2178</td>\n",
       "      <td>172.31.69.7</td>\n",
       "      <td>22</td>\n",
       "      <td>6</td>\n",
       "      <td>20/02/2018 11:51:06</td>\n",
       "      <td>251281</td>\n",
       "      <td>4</td>\n",
       "      <td>2</td>\n",
       "      <td>...</td>\n",
       "      <td>20</td>\n",
       "      <td>0.0</td>\n",
       "      <td>0.0</td>\n",
       "      <td>0.0</td>\n",
       "      <td>0.0</td>\n",
       "      <td>0.0</td>\n",
       "      <td>0.000000</td>\n",
       "      <td>0.0</td>\n",
       "      <td>0.0</td>\n",
       "      <td>Benign</td>\n",
       "    </tr>\n",
       "    <tr>\n",
       "      <th>7948745</th>\n",
       "      <td>172.31.69.7-107.3.188.61-23-14259-6</td>\n",
       "      <td>107.3.188.61</td>\n",
       "      <td>14259</td>\n",
       "      <td>172.31.69.7</td>\n",
       "      <td>23</td>\n",
       "      <td>6</td>\n",
       "      <td>20/02/2018 08:49:20</td>\n",
       "      <td>21</td>\n",
       "      <td>1</td>\n",
       "      <td>1</td>\n",
       "      <td>...</td>\n",
       "      <td>20</td>\n",
       "      <td>0.0</td>\n",
       "      <td>0.0</td>\n",
       "      <td>0.0</td>\n",
       "      <td>0.0</td>\n",
       "      <td>0.0</td>\n",
       "      <td>0.000000</td>\n",
       "      <td>0.0</td>\n",
       "      <td>0.0</td>\n",
       "      <td>Benign</td>\n",
       "    </tr>\n",
       "    <tr>\n",
       "      <th>7948746</th>\n",
       "      <td>172.31.69.7-5.188.11.188-3039-54193-6</td>\n",
       "      <td>5.188.11.188</td>\n",
       "      <td>54193</td>\n",
       "      <td>172.31.69.7</td>\n",
       "      <td>3039</td>\n",
       "      <td>6</td>\n",
       "      <td>20/02/2018 02:00:54</td>\n",
       "      <td>181954</td>\n",
       "      <td>2</td>\n",
       "      <td>1</td>\n",
       "      <td>...</td>\n",
       "      <td>20</td>\n",
       "      <td>0.0</td>\n",
       "      <td>0.0</td>\n",
       "      <td>0.0</td>\n",
       "      <td>0.0</td>\n",
       "      <td>0.0</td>\n",
       "      <td>0.000000</td>\n",
       "      <td>0.0</td>\n",
       "      <td>0.0</td>\n",
       "      <td>Benign</td>\n",
       "    </tr>\n",
       "    <tr>\n",
       "      <th>7948747</th>\n",
       "      <td>172.31.69.7-188.19.76.194-445-57958-6</td>\n",
       "      <td>188.19.76.194</td>\n",
       "      <td>57958</td>\n",
       "      <td>172.31.69.7</td>\n",
       "      <td>445</td>\n",
       "      <td>6</td>\n",
       "      <td>20/02/2018 04:07:01</td>\n",
       "      <td>687378</td>\n",
       "      <td>2</td>\n",
       "      <td>2</td>\n",
       "      <td>...</td>\n",
       "      <td>32</td>\n",
       "      <td>0.0</td>\n",
       "      <td>0.0</td>\n",
       "      <td>0.0</td>\n",
       "      <td>0.0</td>\n",
       "      <td>0.0</td>\n",
       "      <td>0.000000</td>\n",
       "      <td>0.0</td>\n",
       "      <td>0.0</td>\n",
       "      <td>Benign</td>\n",
       "    </tr>\n",
       "  </tbody>\n",
       "</table>\n",
       "<p>7948748 rows × 84 columns</p>\n",
       "</div>"
      ],
      "text/plain": [
       "                                        Flow ID          Src IP  Src Port  \\\n",
       "0        172.31.69.25-94.231.103.172-22-45498-6  94.231.103.172     45498   \n",
       "1                         8.0.6.4-8.6.0.1-0-0-0         8.6.0.1         0   \n",
       "2                         8.0.6.4-8.6.0.1-0-0-0         8.6.0.1         0   \n",
       "3                         8.0.6.4-8.6.0.1-0-0-0         8.6.0.1         0   \n",
       "4                         8.0.6.4-8.6.0.1-0-0-0         8.6.0.1         0   \n",
       "...                                         ...             ...       ...   \n",
       "7948743    172.31.69.7-185.2.197.19-623-42801-6    185.2.197.19     42801   \n",
       "7948744     172.31.69.7-195.22.125.42-22-2178-6   195.22.125.42      2178   \n",
       "7948745     172.31.69.7-107.3.188.61-23-14259-6    107.3.188.61     14259   \n",
       "7948746   172.31.69.7-5.188.11.188-3039-54193-6    5.188.11.188     54193   \n",
       "7948747   172.31.69.7-188.19.76.194-445-57958-6   188.19.76.194     57958   \n",
       "\n",
       "               Dst IP  Dst Port  Protocol            Timestamp  Flow Duration  \\\n",
       "0        172.31.69.25        22         6  20/02/2018 08:34:07         888751   \n",
       "1             8.0.6.4         0         0  20/02/2018 08:33:22      112642816   \n",
       "2             8.0.6.4         0         0  20/02/2018 08:36:11      112642712   \n",
       "3             8.0.6.4         0         0  20/02/2018 08:39:00      112642648   \n",
       "4             8.0.6.4         0         0  20/02/2018 08:41:49      112642702   \n",
       "...               ...       ...       ...                  ...            ...   \n",
       "7948743   172.31.69.7       623         6  20/02/2018 01:41:45          94042   \n",
       "7948744   172.31.69.7        22         6  20/02/2018 11:51:06         251281   \n",
       "7948745   172.31.69.7        23         6  20/02/2018 08:49:20             21   \n",
       "7948746   172.31.69.7      3039         6  20/02/2018 02:00:54         181954   \n",
       "7948747   172.31.69.7       445         6  20/02/2018 04:07:01         687378   \n",
       "\n",
       "         Tot Fwd Pkts  Tot Bwd Pkts  ...  Fwd Seg Size Min  Active Mean  \\\n",
       "0                  11            11  ...                32          0.0   \n",
       "1                   3             0  ...                 0          0.0   \n",
       "2                   3             0  ...                 0          0.0   \n",
       "3                   3             0  ...                 0          0.0   \n",
       "4                   3             0  ...                 0          0.0   \n",
       "...               ...           ...  ...               ...          ...   \n",
       "7948743             2             1  ...                20          0.0   \n",
       "7948744             4             2  ...                20          0.0   \n",
       "7948745             1             1  ...                20          0.0   \n",
       "7948746             2             1  ...                20          0.0   \n",
       "7948747             2             2  ...                32          0.0   \n",
       "\n",
       "         Active Std  Active Max  Active Min   Idle Mean   Idle Std  \\\n",
       "0               0.0         0.0         0.0         0.0   0.000000   \n",
       "1               0.0         0.0         0.0  56300000.0   7.071068   \n",
       "2               0.0         0.0         0.0  56300000.0  18.384776   \n",
       "3               0.0         0.0         0.0  56300000.0   5.656854   \n",
       "4               0.0         0.0         0.0  56300000.0  65.053824   \n",
       "...             ...         ...         ...         ...        ...   \n",
       "7948743         0.0         0.0         0.0         0.0   0.000000   \n",
       "7948744         0.0         0.0         0.0         0.0   0.000000   \n",
       "7948745         0.0         0.0         0.0         0.0   0.000000   \n",
       "7948746         0.0         0.0         0.0         0.0   0.000000   \n",
       "7948747         0.0         0.0         0.0         0.0   0.000000   \n",
       "\n",
       "           Idle Max    Idle Min   Label  \n",
       "0               0.0         0.0  Benign  \n",
       "1        56300000.0  56300000.0  Benign  \n",
       "2        56300000.0  56300000.0  Benign  \n",
       "3        56300000.0  56300000.0  Benign  \n",
       "4        56300000.0  56300000.0  Benign  \n",
       "...             ...         ...     ...  \n",
       "7948743         0.0         0.0  Benign  \n",
       "7948744         0.0         0.0  Benign  \n",
       "7948745         0.0         0.0  Benign  \n",
       "7948746         0.0         0.0  Benign  \n",
       "7948747         0.0         0.0  Benign  \n",
       "\n",
       "[7948748 rows x 84 columns]"
      ]
     },
     "execution_count": 2,
     "metadata": {},
     "output_type": "execute_result"
    }
   ],
   "source": [
    "# read the whole dataset just by leaving .csv \n",
    "all_files  = glob.glob(\"../DDOS/dataset/*20-02-2018*.csv\") #selecte only DDOS attack on 20/02/2018\n",
    "print(all_files)\n",
    "\n",
    "df = pd.concat((pd.read_csv(f) for f in all_files), ignore_index=True)\n",
    "\n",
    "# display data\n",
    "df"
   ]
  },
  {
   "cell_type": "code",
   "execution_count": 3,
   "id": "9b8c9f2c",
   "metadata": {},
   "outputs": [
    {
     "name": "stdout",
     "output_type": "stream",
     "text": [
      "Initial size was  (7948748, 84)\n",
      "Now drop missing values\n",
      "Dataset cleaned. Now shape is (7889295, 84)\n"
     ]
    }
   ],
   "source": [
    "def cleanDataset(df):\n",
    "    \n",
    "    print('Initial size was ', df.shape)\n",
    "    # replace +ve and -ve infinity with NaN\n",
    "    df.replace([np.inf, -np.inf], np.nan, inplace=True)\n",
    "    \n",
    "    # drop missing values\n",
    "    print('Now drop missing values')\n",
    "    df.dropna(inplace=True)\n",
    "    \n",
    "    print('Dataset cleaned. Now shape is', df.shape)\n",
    "    \n",
    "cleanDataset(df)"
   ]
  },
  {
   "cell_type": "code",
   "execution_count": 4,
   "id": "e35722d4",
   "metadata": {},
   "outputs": [
    {
     "data": {
      "text/plain": [
       "Benign                    7313104\n",
       "DDoS attacks-LOIC-HTTP     576191\n",
       "Name: Label, dtype: int64"
      ]
     },
     "execution_count": 4,
     "metadata": {},
     "output_type": "execute_result"
    }
   ],
   "source": [
    "df[\"Label\"].value_counts()"
   ]
  },
  {
   "cell_type": "markdown",
   "id": "2cd9dd60",
   "metadata": {},
   "source": [
    "We just group under label \"Malware\" all type of attacks (some files contains different kind of attack)"
   ]
  },
  {
   "cell_type": "code",
   "execution_count": 5,
   "id": "4d77a536",
   "metadata": {},
   "outputs": [
    {
     "name": "stdout",
     "output_type": "stream",
     "text": [
      "['DDoS attacks-LOIC-HTTP']\n"
     ]
    }
   ],
   "source": [
    "listMalware = [label for label in df[\"Label\"].value_counts().keys() if not 'Benign' in label ]\n",
    "print(listMalware)\n",
    "df.replace(to_replace=listMalware, value=\"Malware\", inplace=True)"
   ]
  },
  {
   "cell_type": "code",
   "execution_count": 6,
   "id": "d15046a0",
   "metadata": {},
   "outputs": [
    {
     "data": {
      "text/plain": [
       "<AxesSubplot:title={'center':'Event Label'}>"
      ]
     },
     "execution_count": 6,
     "metadata": {},
     "output_type": "execute_result"
    },
    {
     "data": {
      "image/png": "[encoded data removed]",
      "text/plain": [
       "<Figure size 640x480 with 1 Axes>"
      ]
     },
     "metadata": {},
     "output_type": "display_data"
    }
   ],
   "source": [
    "df[\"Label\"].value_counts().plot(kind='bar',\n",
    "                               y='Events',\n",
    "                               title='Event Label'\n",
    "                               )"
   ]
  },
  {
   "cell_type": "markdown",
   "id": "f0928bb4",
   "metadata": {},
   "source": [
    "## DNN approach"
   ]
  },
  {
   "cell_type": "markdown",
   "id": "4b6cfb04",
   "metadata": {},
   "source": [
    "\n",
    "Let's create a dataset with the same label distribution"
   ]
  },
  {
   "cell_type": "code",
   "execution_count": 7,
   "id": "85b001d4",
   "metadata": {},
   "outputs": [
    {
     "name": "stdout",
     "output_type": "stream",
     "text": [
      "576191\n"
     ]
    }
   ],
   "source": [
    "nSize = df[df[\"Label\"] == \"Malware\"].shape[0]\n",
    "print(nSize)\n",
    "df1 = df[df[\"Label\"] == \"Benign\"][:nSize]\n",
    "df2 = df[df[\"Label\"] == \"Malware\"][:nSize]\n",
    "df_final = pd.concat([ df1,df2], axis =0)\n",
    "\n",
    "#We now encode our class labels to integer values for the model to use.\n",
    "\n",
    "df_final.replace(to_replace=\"Benign\", value=0, inplace=True)\n",
    "df_final.replace(to_replace=\"Malware\", value=1, inplace=True)"
   ]
  },
  {
   "cell_type": "code",
   "execution_count": 8,
   "id": "da2b105c",
   "metadata": {},
   "outputs": [],
   "source": [
    "train, test = train_test_split(df_final, test_size=0.3, random_state=RANDOM_STATE_SEED)"
   ]
  },
  {
   "cell_type": "markdown",
   "id": "cbfe38f5",
   "metadata": {},
   "source": [
    "Get list of non numerical columns"
   ]
  },
  {
   "cell_type": "code",
   "execution_count": 9,
   "id": "ef274814",
   "metadata": {},
   "outputs": [
    {
     "name": "stdout",
     "output_type": "stream",
     "text": [
      "Non numerical features (Skipping Label) ['Flow ID', 'Src IP', 'Dst IP', 'Timestamp']\n",
      "['Src Port', 'Dst Port', 'Protocol', 'Flow Duration', 'Tot Fwd Pkts', 'Tot Bwd Pkts', 'TotLen Fwd Pkts', 'TotLen Bwd Pkts', 'Fwd Pkt Len Max', 'Fwd Pkt Len Min', 'Fwd Pkt Len Mean', 'Fwd Pkt Len Std', 'Bwd Pkt Len Max', 'Bwd Pkt Len Min', 'Bwd Pkt Len Mean', 'Bwd Pkt Len Std', 'Flow Byts/s', 'Flow Pkts/s', 'Flow IAT Mean', 'Flow IAT Std', 'Flow IAT Max', 'Flow IAT Min', 'Fwd IAT Tot', 'Fwd IAT Mean', 'Fwd IAT Std', 'Fwd IAT Max', 'Fwd IAT Min', 'Bwd IAT Tot', 'Bwd IAT Mean', 'Bwd IAT Std', 'Bwd IAT Max', 'Bwd IAT Min', 'Fwd PSH Flags', 'Bwd PSH Flags', 'Fwd URG Flags', 'Bwd URG Flags', 'Fwd Header Len', 'Bwd Header Len', 'Fwd Pkts/s', 'Bwd Pkts/s', 'Pkt Len Min', 'Pkt Len Max', 'Pkt Len Mean', 'Pkt Len Std', 'Pkt Len Var', 'FIN Flag Cnt', 'SYN Flag Cnt', 'RST Flag Cnt', 'PSH Flag Cnt', 'ACK Flag Cnt', 'URG Flag Cnt', 'CWE Flag Count', 'ECE Flag Cnt', 'Down/Up Ratio', 'Pkt Size Avg', 'Fwd Seg Size Avg', 'Bwd Seg Size Avg', 'Fwd Byts/b Avg', 'Fwd Pkts/b Avg', 'Fwd Blk Rate Avg', 'Bwd Byts/b Avg', 'Bwd Pkts/b Avg', 'Bwd Blk Rate Avg', 'Subflow Fwd Pkts', 'Subflow Fwd Byts', 'Subflow Bwd Pkts', 'Subflow Bwd Byts', 'Init Fwd Win Byts', 'Init Bwd Win Byts', 'Fwd Act Data Pkts', 'Fwd Seg Size Min', 'Active Mean', 'Active Std', 'Active Max', 'Active Min', 'Idle Mean', 'Idle Std', 'Idle Max', 'Idle Min']\n",
      "84 84\n"
     ]
    }
   ],
   "source": [
    "objectColumns = list(df.select_dtypes(['object']).columns)\n",
    "objectColumns.remove(\"Label\")\n",
    "\n",
    "print('Non numerical features (Skipping Label)', objectColumns)\n",
    "\n",
    "numericColumns = df.select_dtypes(include=[np.number]).columns.to_list()\n",
    "\n",
    "print(numericColumns)\n",
    "\n",
    "print( 1 + len(numericColumns) + len(objectColumns), df.shape[1])"
   ]
  },
  {
   "cell_type": "markdown",
   "id": "87949f87",
   "metadata": {},
   "source": [
    "Standardization: normalize all features"
   ]
  },
  {
   "cell_type": "code",
   "execution_count": 10,
   "id": "185c5e9a",
   "metadata": {},
   "outputs": [],
   "source": [
    "min_max_scaler = MinMaxScaler().fit(train[numericColumns])\n"
   ]
  },
  {
   "cell_type": "code",
   "execution_count": 11,
   "id": "b7cc7314",
   "metadata": {},
   "outputs": [],
   "source": [
    "train[numericColumns] = min_max_scaler.transform(train[numericColumns])\n",
    "test[numericColumns] = min_max_scaler.transform(test[numericColumns])"
   ]
  },
  {
   "cell_type": "code",
   "execution_count": 12,
   "id": "36f0b160",
   "metadata": {},
   "outputs": [
    {
     "name": "stdout",
     "output_type": "stream",
     "text": [
      "Full dataset:\n",
      "\n",
      "Benign: 576191\n",
      "Malware: 576191\n",
      "---------------\n",
      "Training set:\n",
      "\n",
      "Benign: 403051\n",
      "Malware: 403616\n",
      "---------------\n",
      "Test set:\n",
      "\n",
      "Benign: 173140\n",
      "Malware: 172575\n"
     ]
    }
   ],
   "source": [
    "print(\"Full dataset:\\n\")\n",
    "print(\"Benign: \" + str(df_final[\"Label\"].value_counts()[[0]].sum()))\n",
    "print(\"Malware: \" + str(df_final[\"Label\"].value_counts()[[1]].sum()))\n",
    "print(\"---------------\")\n",
    "\n",
    "print(\"Training set:\\n\")\n",
    "print(\"Benign: \" + str(train[\"Label\"].value_counts()[[0]].sum()))\n",
    "print(\"Malware: \" + str(train[\"Label\"].value_counts()[[1]].sum()))\n",
    "print(\"---------------\")\n",
    "\n",
    "print(\"Test set:\\n\")\n",
    "print(\"Benign: \" + str(test[\"Label\"].value_counts()[[0]].sum()))\n",
    "print(\"Malware: \" + str(test[\"Label\"].value_counts()[[1]].sum()))"
   ]
  },
  {
   "cell_type": "code",
   "execution_count": 13,
   "id": "5fd2a72e",
   "metadata": {},
   "outputs": [],
   "source": [
    "\n",
    "#remove object columns\n",
    "train.drop(objectColumns, axis=1,inplace=True)\n",
    "test.drop(objectColumns,axis=1,inplace=True)\n",
    "\n"
   ]
  },
  {
   "cell_type": "code",
   "execution_count": 14,
   "id": "da66d68c",
   "metadata": {},
   "outputs": [
    {
     "name": "stdout",
     "output_type": "stream",
     "text": [
      "<class 'numpy.ndarray'>\n",
      "<class 'numpy.ndarray'>\n",
      "(806667, 79)\n",
      "(806667,)\n",
      "<class 'numpy.ndarray'>\n",
      "<class 'numpy.ndarray'>\n",
      "(345715, 79)\n",
      "(345715,)\n"
     ]
    }
   ],
   "source": [
    "#X after y, since we're slicing \"Label\" columns\n",
    "y_train = np.array(train.pop(\"Label\"))\n",
    "X_train = train.values\n",
    "\n",
    "\n",
    "\n",
    "y_test = np.array(test.pop(\"Label\")) # pop removes \"Label\" from the dataframe\n",
    "X_test = test.values\n",
    "\n",
    "\n",
    "print(type(X_train))\n",
    "print(type(y_train))\n",
    "print(X_train.shape)\n",
    "print(y_train.shape)\n",
    "\n",
    "print(type(X_test))\n",
    "print(type(y_test))\n",
    "print(X_test.shape)\n",
    "print(y_test.shape)"
   ]
  },
  {
   "cell_type": "markdown",
   "id": "be82810b",
   "metadata": {},
   "source": [
    "## NN with Keras"
   ]
  },
  {
   "cell_type": "code",
   "execution_count": 15,
   "id": "02dec91d",
   "metadata": {},
   "outputs": [
    {
     "name": "stderr",
     "output_type": "stream",
     "text": [
      "2022-11-08 17:31:54.826127: I tensorflow/core/platform/cpu_feature_guard.cc:193] This TensorFlow binary is optimized with oneAPI Deep Neural Network Library (oneDNN) to use the following CPU instructions in performance-critical operations:  AVX2 FMA\n",
      "To enable them in other operations, rebuild TensorFlow with the appropriate compiler flags.\n",
      "2022-11-08 17:31:54.990931: E tensorflow/stream_executor/cuda/cuda_blas.cc:2981] Unable to register cuBLAS factory: Attempting to register factory for plugin cuBLAS when one has already been registered\n",
      "2022-11-08 17:31:55.649614: W tensorflow/stream_executor/platform/default/dso_loader.cc:64] Could not load dynamic library 'libnvinfer.so.7'; dlerror: libnvinfer.so.7: cannot open shared object file: No such file or directory\n",
      "2022-11-08 17:31:55.649693: W tensorflow/stream_executor/platform/default/dso_loader.cc:64] Could not load dynamic library 'libnvinfer_plugin.so.7'; dlerror: libnvinfer_plugin.so.7: cannot open shared object file: No such file or directory\n",
      "2022-11-08 17:31:55.649700: W tensorflow/compiler/tf2tensorrt/utils/py_utils.cc:38] TF-TRT Warning: Cannot dlopen some TensorRT libraries. If you would like to use Nvidia GPU with TensorRT, please make sure the missing libraries mentioned above are installed properly.\n"
     ]
    }
   ],
   "source": [
    "import tensorflow as tf\n",
    "from tensorflow import keras\n",
    "from tensorflow.keras import layers\n",
    "from tensorflow.keras import callbacks\n",
    "\n"
   ]
  },
  {
   "cell_type": "code",
   "execution_count": 16,
   "id": "ff323a0b",
   "metadata": {},
   "outputs": [],
   "source": [
    "def define_model(initial_input_shape):\n",
    "    model = keras.Sequential([\n",
    "        layers.InputLayer(input_shape=(initial_input_shape,)),\n",
    "       \n",
    "       \n",
    "        layers.Dense(128, activation='relu'),\n",
    "        layers.Dropout(rate = 0.25),\n",
    "        layers.Dense(64, activation='relu'),\n",
    "        layers.Dropout(rate = 0.25),\n",
    "        layers.Dense(32, activation='relu'),\n",
    "        layers.Dropout(rate = 0.25),\n",
    "        layers.Dense(1, activation='sigmoid'),\n",
    "    ])\n",
    "    optimizer = tf.keras.optimizers.Adam(epsilon=0.01)\n",
    "\n",
    "\n",
    "    model.compile(\n",
    "        optimizer=optimizer,\n",
    "        loss='binary_crossentropy',\n",
    "        metrics=['binary_accuracy'],\n",
    "    )\n",
    "    model.summary()\n",
    "    return model"
   ]
  },
  {
   "cell_type": "markdown",
   "id": "3c96a49c",
   "metadata": {},
   "source": [
    "Create model"
   ]
  },
  {
   "cell_type": "code",
   "execution_count": 17,
   "id": "2d988629",
   "metadata": {},
   "outputs": [
    {
     "name": "stdout",
     "output_type": "stream",
     "text": [
      "Model: \"sequential\"\n",
      "_________________________________________________________________\n",
      " Layer (type)                Output Shape              Param #   \n",
      "=================================================================\n",
      " dense (Dense)               (None, 128)               10240     \n",
      "                                                                 \n",
      " dropout (Dropout)           (None, 128)               0         \n",
      "                                                                 \n",
      " dense_1 (Dense)             (None, 64)                8256      \n",
      "                                                                 \n",
      " dropout_1 (Dropout)         (None, 64)                0         \n",
      "                                                                 \n",
      " dense_2 (Dense)             (None, 32)                2080      \n",
      "                                                                 \n",
      " dropout_2 (Dropout)         (None, 32)                0         \n",
      "                                                                 \n",
      " dense_3 (Dense)             (None, 1)                 33        \n",
      "                                                                 \n",
      "=================================================================\n",
      "Total params: 20,609\n",
      "Trainable params: 20,609\n",
      "Non-trainable params: 0\n",
      "_________________________________________________________________\n"
     ]
    },
    {
     "name": "stderr",
     "output_type": "stream",
     "text": [
      "2022-11-08 17:31:57.248223: I tensorflow/core/platform/cpu_feature_guard.cc:193] This TensorFlow binary is optimized with oneAPI Deep Neural Network Library (oneDNN) to use the following CPU instructions in performance-critical operations:  AVX2 FMA\n",
      "To enable them in other operations, rebuild TensorFlow with the appropriate compiler flags.\n",
      "2022-11-08 17:31:58.065357: I tensorflow/core/common_runtime/gpu/gpu_device.cc:1616] Created device /job:localhost/replica:0/task:0/device:GPU:0 with 30975 MB memory:  -> device: 0, name: Tesla V100S-PCIE-32GB, pci bus id: 0000:21:00.0, compute capability: 7.0\n",
      "2022-11-08 17:31:58.066417: I tensorflow/core/common_runtime/gpu/gpu_device.cc:1616] Created device /job:localhost/replica:0/task:0/device:GPU:1 with 30975 MB memory:  -> device: 1, name: Tesla V100S-PCIE-32GB, pci bus id: 0000:81:00.0, compute capability: 7.0\n"
     ]
    }
   ],
   "source": [
    "dnn = define_model(X_train.shape[1])"
   ]
  },
  {
   "cell_type": "markdown",
   "id": "1c3d4ef6",
   "metadata": {},
   "source": [
    "Train model"
   ]
  },
  {
   "cell_type": "code",
   "execution_count": 18,
   "id": "c60669eb",
   "metadata": {},
   "outputs": [
    {
     "name": "stdout",
     "output_type": "stream",
     "text": [
      "Epoch 1/50\n",
      "2364/2364 [==============================] - 6s 2ms/step - loss: 0.1112 - binary_accuracy: 0.9608 - val_loss: 0.0185 - val_binary_accuracy: 0.9956\n",
      "Epoch 2/50\n",
      "2364/2364 [==============================] - 6s 2ms/step - loss: 0.0174 - binary_accuracy: 0.9949 - val_loss: 0.0099 - val_binary_accuracy: 0.9965\n",
      "Epoch 3/50\n",
      "2364/2364 [==============================] - 5s 2ms/step - loss: 0.0111 - binary_accuracy: 0.9967 - val_loss: 0.0066 - val_binary_accuracy: 0.9973\n",
      "Epoch 4/50\n",
      "2364/2364 [==============================] - 6s 2ms/step - loss: 0.0079 - binary_accuracy: 0.9976 - val_loss: 0.0043 - val_binary_accuracy: 0.9985\n",
      "Epoch 5/50\n",
      "2364/2364 [==============================] - 5s 2ms/step - loss: 0.0060 - binary_accuracy: 0.9983 - val_loss: 0.0037 - val_binary_accuracy: 0.9986\n",
      "Epoch 6/50\n",
      "2364/2364 [==============================] - 5s 2ms/step - loss: 0.0047 - binary_accuracy: 0.9987 - val_loss: 0.0030 - val_binary_accuracy: 0.9991\n",
      "Epoch 7/50\n",
      "2364/2364 [==============================] - 5s 2ms/step - loss: 0.0040 - binary_accuracy: 0.9989 - val_loss: 0.0024 - val_binary_accuracy: 0.9994\n",
      "Epoch 8/50\n",
      "2364/2364 [==============================] - 5s 2ms/step - loss: 0.0035 - binary_accuracy: 0.9991 - val_loss: 0.0024 - val_binary_accuracy: 0.9993\n",
      "Epoch 9/50\n",
      "2364/2364 [==============================] - 5s 2ms/step - loss: 0.0031 - binary_accuracy: 0.9992 - val_loss: 0.0020 - val_binary_accuracy: 0.9994\n",
      "Epoch 10/50\n",
      "2364/2364 [==============================] - 5s 2ms/step - loss: 0.0030 - binary_accuracy: 0.9992 - val_loss: 0.0021 - val_binary_accuracy: 0.9994\n",
      "Epoch 11/50\n",
      "2364/2364 [==============================] - 5s 2ms/step - loss: 0.0029 - binary_accuracy: 0.9992 - val_loss: 0.0019 - val_binary_accuracy: 0.9995\n",
      "Epoch 12/50\n",
      "2364/2364 [==============================] - 5s 2ms/step - loss: 0.0027 - binary_accuracy: 0.9993 - val_loss: 0.0020 - val_binary_accuracy: 0.9995\n",
      "Epoch 13/50\n",
      "2364/2364 [==============================] - 5s 2ms/step - loss: 0.0027 - binary_accuracy: 0.9993 - val_loss: 0.0020 - val_binary_accuracy: 0.9995\n",
      "Epoch 14/50\n",
      "2364/2364 [==============================] - 5s 2ms/step - loss: 0.0026 - binary_accuracy: 0.9993 - val_loss: 0.0020 - val_binary_accuracy: 0.9995\n",
      "Epoch 15/50\n",
      "2364/2364 [==============================] - 5s 2ms/step - loss: 0.0025 - binary_accuracy: 0.9994 - val_loss: 0.0021 - val_binary_accuracy: 0.9994\n",
      "Epoch 16/50\n",
      "2364/2364 [==============================] - 5s 2ms/step - loss: 0.0025 - binary_accuracy: 0.9994 - val_loss: 0.0017 - val_binary_accuracy: 0.9995\n",
      "Epoch 17/50\n",
      "2364/2364 [==============================] - 5s 2ms/step - loss: 0.0024 - binary_accuracy: 0.9994 - val_loss: 0.0021 - val_binary_accuracy: 0.9995\n",
      "Epoch 18/50\n",
      "2364/2364 [==============================] - 5s 2ms/step - loss: 0.0023 - binary_accuracy: 0.9994 - val_loss: 0.0022 - val_binary_accuracy: 0.9995\n",
      "Epoch 19/50\n",
      "2364/2364 [==============================] - 5s 2ms/step - loss: 0.0023 - binary_accuracy: 0.9994 - val_loss: 0.0027 - val_binary_accuracy: 0.9993\n",
      "Epoch 20/50\n",
      "2364/2364 [==============================] - 5s 2ms/step - loss: 0.0023 - binary_accuracy: 0.9994 - val_loss: 0.0018 - val_binary_accuracy: 0.9995\n",
      "Epoch 21/50\n",
      "2364/2364 [==============================] - 5s 2ms/step - loss: 0.0024 - binary_accuracy: 0.9994 - val_loss: 0.0017 - val_binary_accuracy: 0.9996\n",
      "Epoch 22/50\n",
      "2364/2364 [==============================] - 5s 2ms/step - loss: 0.0024 - binary_accuracy: 0.9994 - val_loss: 0.0017 - val_binary_accuracy: 0.9995\n",
      "Epoch 23/50\n",
      "2364/2364 [==============================] - 5s 2ms/step - loss: 0.0023 - binary_accuracy: 0.9994 - val_loss: 0.0020 - val_binary_accuracy: 0.9995\n",
      "Epoch 24/50\n",
      "2364/2364 [==============================] - 5s 2ms/step - loss: 0.0022 - binary_accuracy: 0.9995 - val_loss: 0.0016 - val_binary_accuracy: 0.9996\n",
      "Epoch 25/50\n",
      "2364/2364 [==============================] - 5s 2ms/step - loss: 0.0022 - binary_accuracy: 0.9994 - val_loss: 0.0015 - val_binary_accuracy: 0.9996\n",
      "Epoch 26/50\n",
      "2364/2364 [==============================] - 5s 2ms/step - loss: 0.0021 - binary_accuracy: 0.9994 - val_loss: 0.0017 - val_binary_accuracy: 0.9995\n",
      "Epoch 27/50\n",
      "2364/2364 [==============================] - 5s 2ms/step - loss: 0.0021 - binary_accuracy: 0.9994 - val_loss: 0.0018 - val_binary_accuracy: 0.9996\n",
      "Epoch 28/50\n",
      "2364/2364 [==============================] - 5s 2ms/step - loss: 0.0021 - binary_accuracy: 0.9995 - val_loss: 0.0020 - val_binary_accuracy: 0.9995\n",
      "Epoch 29/50\n",
      "2364/2364 [==============================] - 5s 2ms/step - loss: 0.0020 - binary_accuracy: 0.9995 - val_loss: 0.0020 - val_binary_accuracy: 0.9995\n",
      "Epoch 30/50\n",
      "2364/2364 [==============================] - 5s 2ms/step - loss: 0.0020 - binary_accuracy: 0.9995 - val_loss: 0.0016 - val_binary_accuracy: 0.9996\n",
      "Epoch 31/50\n",
      "2364/2364 [==============================] - 5s 2ms/step - loss: 0.0021 - binary_accuracy: 0.9995 - val_loss: 0.0017 - val_binary_accuracy: 0.9995\n",
      "Epoch 32/50\n",
      "2364/2364 [==============================] - 5s 2ms/step - loss: 0.0020 - binary_accuracy: 0.9995 - val_loss: 0.0016 - val_binary_accuracy: 0.9995\n",
      "Epoch 33/50\n",
      "2364/2364 [==============================] - 5s 2ms/step - loss: 0.0020 - binary_accuracy: 0.9995 - val_loss: 0.0016 - val_binary_accuracy: 0.9996\n",
      "Epoch 34/50\n",
      "2364/2364 [==============================] - 5s 2ms/step - loss: 0.0021 - binary_accuracy: 0.9995 - val_loss: 0.0014 - val_binary_accuracy: 0.9996\n",
      "Epoch 35/50\n",
      "2364/2364 [==============================] - 5s 2ms/step - loss: 0.0020 - binary_accuracy: 0.9995 - val_loss: 0.0015 - val_binary_accuracy: 0.9996\n",
      "Epoch 36/50\n",
      "2364/2364 [==============================] - 5s 2ms/step - loss: 0.0019 - binary_accuracy: 0.9995 - val_loss: 0.0013 - val_binary_accuracy: 0.9997\n",
      "Epoch 37/50\n",
      "2364/2364 [==============================] - 5s 2ms/step - loss: 0.0020 - binary_accuracy: 0.9995 - val_loss: 0.0016 - val_binary_accuracy: 0.9996\n",
      "Epoch 38/50\n",
      "2364/2364 [==============================] - 5s 2ms/step - loss: 0.0020 - binary_accuracy: 0.9995 - val_loss: 0.0016 - val_binary_accuracy: 0.9996\n",
      "Epoch 39/50\n",
      "2364/2364 [==============================] - 5s 2ms/step - loss: 0.0020 - binary_accuracy: 0.9995 - val_loss: 0.0014 - val_binary_accuracy: 0.9996\n",
      "Epoch 40/50\n",
      "2364/2364 [==============================] - 5s 2ms/step - loss: 0.0019 - binary_accuracy: 0.9995 - val_loss: 0.0018 - val_binary_accuracy: 0.9996\n",
      "Epoch 41/50\n",
      "2364/2364 [==============================] - 5s 2ms/step - loss: 0.0019 - binary_accuracy: 0.9995 - val_loss: 0.0014 - val_binary_accuracy: 0.9997\n",
      "Epoch 42/50\n",
      "2364/2364 [==============================] - 5s 2ms/step - loss: 0.0018 - binary_accuracy: 0.9995 - val_loss: 0.0013 - val_binary_accuracy: 0.9996\n",
      "Epoch 43/50\n",
      "2364/2364 [==============================] - 6s 2ms/step - loss: 0.0018 - binary_accuracy: 0.9995 - val_loss: 0.0014 - val_binary_accuracy: 0.9996\n",
      "Epoch 44/50\n",
      "2364/2364 [==============================] - 6s 2ms/step - loss: 0.0019 - binary_accuracy: 0.9995 - val_loss: 0.0014 - val_binary_accuracy: 0.9997\n"
     ]
    }
   ],
   "source": [
    "early_stopping = callbacks.EarlyStopping(\n",
    "        min_delta = 1e-4,\n",
    "        patience = 10,\n",
    "        restore_best_weights = True\n",
    "    )\n",
    "history = dnn.fit(\n",
    "    X_train, y_train,\n",
    "    epochs=50,\n",
    "    batch_size = 256,\n",
    "    validation_split=0.25,\n",
    "    callbacks=[early_stopping]\n",
    ")"
   ]
  },
  {
   "cell_type": "markdown",
   "id": "2853f073",
   "metadata": {},
   "source": [
    "## Evaluating metrics"
   ]
  },
  {
   "cell_type": "markdown",
   "id": "3a5e3f29",
   "metadata": {},
   "source": [
    "Plotting loss and accuracy"
   ]
  },
  {
   "cell_type": "code",
   "execution_count": 19,
   "id": "3b6e1940",
   "metadata": {},
   "outputs": [
    {
     "name": "stdout",
     "output_type": "stream",
     "text": [
      "dict_keys(['loss', 'binary_accuracy', 'val_loss', 'val_binary_accuracy'])\n"
     ]
    },
    {
     "data": {
      "image/png": "[encoded data removed]",
      "text/plain": [
       "<Figure size 640x480 with 1 Axes>"
      ]
     },
     "metadata": {},
     "output_type": "display_data"
    },
    {
     "data": {
      "image/png": "[encoded data removed]",
      "text/plain": [
       "<Figure size 640x480 with 1 Axes>"
      ]
     },
     "metadata": {},
     "output_type": "display_data"
    }
   ],
   "source": [
    "# list all data in history\n",
    "print(history.history.keys())\n",
    "# summarize history for accuracy\n",
    "plt.plot(history.history['binary_accuracy'])\n",
    "plt.plot(history.history['val_binary_accuracy'])\n",
    "plt.title('model accuracy')\n",
    "plt.ylabel('accuracy')\n",
    "plt.xlabel('epoch')\n",
    "plt.legend(['train', 'test'], loc='lower right')\n",
    "plt.show()\n",
    "# summarize history for loss\n",
    "plt.plot(history.history['loss'])\n",
    "plt.plot(history.history['val_loss'])\n",
    "plt.title('model loss')\n",
    "plt.ylabel('loss')\n",
    "plt.xlabel('epoch')\n",
    "plt.legend(['train', 'test'], loc='lower right')\n",
    "plt.show()"
   ]
  },
  {
   "cell_type": "markdown",
   "id": "86dd3721",
   "metadata": {},
   "source": [
    "Evaluating model and predictions"
   ]
  },
  {
   "cell_type": "code",
   "execution_count": 20,
   "id": "30d1cd7a",
   "metadata": {},
   "outputs": [
    {
     "name": "stdout",
     "output_type": "stream",
     "text": [
      "10804/10804 [==============================] - 13s 1ms/step - loss: 0.0010 - binary_accuracy: 0.9997\n",
      "\n",
      "binary_accuracy: 99.97%\n"
     ]
    }
   ],
   "source": [
    "scores = dnn.evaluate(X_test, y_test )\n",
    "print(\"\\n%s: %.2f%%\" % (dnn.metrics_names[1], scores[1]*100))"
   ]
  },
  {
   "cell_type": "code",
   "execution_count": 21,
   "id": "2e8331c2",
   "metadata": {},
   "outputs": [
    {
     "name": "stdout",
     "output_type": "stream",
     "text": [
      "10804/10804 [==============================] - 8s 711us/step\n",
      "10804/10804 [==============================] - 8s 701us/step\n"
     ]
    }
   ],
   "source": [
    "predictions=(dnn.predict(X_test) > 0.5).astype(\"int32\")\n",
    "pred=(dnn.predict(X_test))"
   ]
  },
  {
   "cell_type": "code",
   "execution_count": 22,
   "id": "42250511",
   "metadata": {},
   "outputs": [
    {
     "name": "stdout",
     "output_type": "stream",
     "text": [
      "(345715, 1) (345715, 1)\n",
      "False\n"
     ]
    }
   ],
   "source": [
    "print(predictions.shape, pred.shape)\n",
    "print(np.array_equal(pred, predictions))"
   ]
  },
  {
   "cell_type": "code",
   "execution_count": 23,
   "id": "97fea92c",
   "metadata": {},
   "outputs": [
    {
     "name": "stdout",
     "output_type": "stream",
     "text": [
      "0.9997049592872742\n"
     ]
    }
   ],
   "source": [
    "print(accuracy_score(y_test, predictions))"
   ]
  },
  {
   "cell_type": "code",
   "execution_count": 24,
   "id": "d38cb51c",
   "metadata": {},
   "outputs": [
    {
     "data": {
      "text/plain": [
       "<AxesSubplot:>"
      ]
     },
     "execution_count": 24,
     "metadata": {},
     "output_type": "execute_result"
    },
    {
     "data": {
      "image/png": "[encoded data removed]",
      "text/plain": [
       "<Figure size 640x480 with 2 Axes>"
      ]
     },
     "metadata": {},
     "output_type": "display_data"
    }
   ],
   "source": [
    "cf_matrix = confusion_matrix(y_test, predictions)\n",
    "import seaborn as sns\n",
    "sns.heatmap(cf_matrix/np.sum(cf_matrix), annot=True, \n",
    "            fmt='.2%', cmap='Blues')"
   ]
  },
  {
   "cell_type": "code",
   "execution_count": null,
   "id": "9c4a2ea6",
   "metadata": {},
   "outputs": [],
   "source": []
  },
  {
   "cell_type": "code",
   "execution_count": 25,
   "id": "87426999",
   "metadata": {},
   "outputs": [
    {
     "data": {
      "text/plain": [
       "0.999704911226243"
      ]
     },
     "execution_count": 25,
     "metadata": {},
     "output_type": "execute_result"
    }
   ],
   "source": [
    "roc_auc_score(y_test, predictions,  average='micro')"
   ]
  },
  {
   "cell_type": "code",
   "execution_count": null,
   "id": "8ae86b85",
   "metadata": {},
   "outputs": [],
   "source": [
    "fpr, tpr, threshold = roc_curve(y_test, predictions)\n",
    "plt.plot(fpr,tpr,label=' auc = %.1f%%'%(auc(fpr,tpr)*100.))"
   ]
  },
  {
   "cell_type": "code",
   "execution_count": null,
   "id": "1f7c53c1",
   "metadata": {},
   "outputs": [],
   "source": []
  }
 ],
 "metadata": {
  "kernelspec": {
   "display_name": "GNN",
   "language": "python",
   "name": "gnn"
  },
  "language_info": {
   "codemirror_mode": {
    "name": "ipython",
    "version": 3
   },
   "file_extension": ".py",
   "mimetype": "text/x-python",
   "name": "python",
   "nbconvert_exporter": "python",
   "pygments_lexer": "ipython3",
   "version": "3.7.13"
  }
 },
 "nbformat": 4,
 "nbformat_minor": 5
}
